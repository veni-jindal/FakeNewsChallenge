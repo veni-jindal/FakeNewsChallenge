{
  "nbformat": 4,
  "nbformat_minor": 0,
  "metadata": {
    "colab": {
      "name": "independent_LSTM_FNC.ipynb",
      "provenance": [],
      "collapsed_sections": []
    },
    "kernelspec": {
      "name": "python3",
      "display_name": "Python 3"
    },
    "accelerator": "GPU"
  },
  "cells": [
    {
      "cell_type": "code",
      "metadata": {
        "id": "TqlcFExp06jA",
        "colab_type": "code",
        "colab": {
          "base_uri": "https://localhost:8080/",
          "height": 119
        },
        "outputId": "0f77e80a-57da-41b1-e4d9-88715397ef3a"
      },
      "source": [
        "# cloning the rgithub repository of fnc to get data in colab\n",
        "!git clone https://github.com/veni-jindal/FakeNewsChallenge.git"
      ],
      "execution_count": 1,
      "outputs": [
        {
          "output_type": "stream",
          "text": [
            "Cloning into 'FakeNewsChallenge'...\n",
            "remote: Enumerating objects: 18, done.\u001b[K\n",
            "remote: Counting objects: 100% (18/18), done.\u001b[K\n",
            "remote: Compressing objects: 100% (15/15), done.\u001b[K\n",
            "remote: Total 18 (delta 4), reused 16 (delta 2), pack-reused 0\u001b[K\n",
            "Unpacking objects: 100% (18/18), done.\n"
          ],
          "name": "stdout"
        }
      ]
    },
    {
      "cell_type": "code",
      "metadata": {
        "id": "xT_PysUs08Ml",
        "colab_type": "code",
        "colab": {
          "base_uri": "https://localhost:8080/",
          "height": 85
        },
        "outputId": "400c0706-ff09-44a0-ffeb-0e89dcb4090e"
      },
      "source": [
        "# importing required packages\n",
        "import pandas as pd\n",
        "import numpy as np\n",
        "import os\n",
        "from csv import DictReader\n",
        "import re\n",
        "import nltk\n",
        "from sklearn import feature_extraction\n",
        "nltk.download('wordnet')\n",
        "nltk.download('punkt')\n",
        "_wnl = nltk.WordNetLemmatizer()\n",
        "from tqdm import tqdm"
      ],
      "execution_count": 2,
      "outputs": [
        {
          "output_type": "stream",
          "text": [
            "[nltk_data] Downloading package wordnet to /root/nltk_data...\n",
            "[nltk_data]   Unzipping corpora/wordnet.zip.\n",
            "[nltk_data] Downloading package punkt to /root/nltk_data...\n",
            "[nltk_data]   Unzipping tokenizers/punkt.zip.\n"
          ],
          "name": "stdout"
        }
      ]
    },
    {
      "cell_type": "code",
      "metadata": {
        "id": "Kv30oOxi_8Wl",
        "colab_type": "code",
        "colab": {}
      },
      "source": [
        "# importing required packages\n",
        "import tensorflow as tf\n",
        "import keras\n",
        "from keras.utils import to_categorical\n",
        "from keras.models import Sequential, Model\n",
        "from keras.layers import Embedding, Bidirectional, LSTM, Dense, Input, Concatenate, dot, Dropout\n",
        "from keras.preprocessing.text import text_to_word_sequence\n",
        "from keras.preprocessing.text import Tokenizer\n",
        "from keras.preprocessing.sequence import pad_sequences\n",
        "from keras.regularizers import l2"
      ],
      "execution_count": 3,
      "outputs": []
    },
    {
      "cell_type": "code",
      "metadata": {
        "id": "v0VJCBNq1lC_",
        "colab_type": "code",
        "colab": {}
      },
      "source": [
        "# reading the dataset from the fnc-1 data\n",
        "class DataSet():\n",
        "    def __init__(self, name, path=\"FakeNewsChallenge/fnc-1\"):\n",
        "        self.path = path\n",
        "\n",
        "        print(\"Reading train dataset\")\n",
        "        bodies = name+\"_bodies.csv\"\n",
        "        stances = name+\"_stances.csv\"\n",
        "        print(stances)\n",
        "\n",
        "        self.stances = self.read(stances)\n",
        "        articles = self.read(bodies)\n",
        "        self.articles = dict()\n",
        "\n",
        "        #make the body ID an integer value\n",
        "        for s in self.stances:\n",
        "            s['Body ID'] = int(s['Body ID'])\n",
        "\n",
        "        #copy all bodies into a dictionary\n",
        "        for article in articles:\n",
        "            self.articles[int(article['Body ID'])] = article['articleBody']\n",
        "\n",
        "        print(\"Total stances: \" + str(len(self.stances)))\n",
        "        print(\"Total bodies: \" + str(len(self.articles)))\n",
        "    \n",
        "    def read(self,filename):\n",
        "        rows = []\n",
        "        with open(self.path + \"/\" + filename, \"r\", encoding='utf-8') as table:\n",
        "            r = DictReader(table)\n",
        "\n",
        "            for line in r:\n",
        "                rows.append(line)\n",
        "        return rows"
      ],
      "execution_count": 4,
      "outputs": []
    },
    {
      "cell_type": "code",
      "metadata": {
        "id": "Zn8p3t2U3s1h",
        "colab_type": "code",
        "colab": {}
      },
      "source": [
        "'''Preprocessing steps used for cleaning the text'''\n",
        "# getting the root word\n",
        "def normalize_word(w):\n",
        "    return _wnl.lemmatize(w).lower()\n",
        "\n",
        "# tokenisation and lowering the text\n",
        "def get_tokenized_lemmas(s):\n",
        "    return [normalize_word(t) for t in nltk.word_tokenize(s)]\n",
        "\n",
        "# Cleans a string: Lowercasing, trimming, removing non-alphanumeric\n",
        "def clean(s):  \n",
        "    return \" \".join(re.findall(r'\\w+', s, flags=re.UNICODE)).lower()\n",
        "\n",
        "# Removes stopwords from a list of tokens\n",
        "def remove_stopwords(l):\n",
        "    return [w for w in l if w not in feature_extraction.text.ENGLISH_STOP_WORDS]\n"
      ],
      "execution_count": 5,
      "outputs": []
    },
    {
      "cell_type": "code",
      "metadata": {
        "id": "fI06bg6669pE",
        "colab_type": "code",
        "colab": {}
      },
      "source": [
        "# data preprocessing of headlines & bodies\n",
        "def data_preprocessing(headlines, bodies):\n",
        "    # clean_head, clean_body\n",
        "    clean_h = []\n",
        "    clean_b = []\n",
        "    for i, (headline, body) in tqdm(enumerate(zip(headlines, bodies))):\n",
        "    \n",
        "      clean_headline = clean(headline)\n",
        "      clean_body = clean(body)\n",
        "      clean_headline = get_tokenized_lemmas(clean_headline)\n",
        "      clean_body = get_tokenized_lemmas(clean_body)\n",
        "      clean_headline = remove_stopwords(clean_headline)\n",
        "      clean_body = remove_stopwords(clean_body)\n",
        "      clean_h.append(' '.join(clean_headline))\n",
        "      clean_b.append(' '.join(clean_body))\n",
        "    \n",
        "    return(clean_h, clean_b)\n",
        "      "
      ],
      "execution_count": 6,
      "outputs": []
    },
    {
      "cell_type": "code",
      "metadata": {
        "id": "aRFqnHLS2bSN",
        "colab_type": "code",
        "colab": {
          "base_uri": "https://localhost:8080/",
          "height": 153
        },
        "outputId": "22f247a0-4cfb-41d8-9e91-612616037647"
      },
      "source": [
        "# getting train dataset\n",
        "train = DataSet(\"train\")\n",
        "# getting test dataset\n",
        "test = DataSet(\"competition_test\")\n",
        "# labels list\n",
        "LABELS = ['agree', 'disagree', 'discuss', 'unrelated']\n",
        "# labels - Related/Unrelated\n",
        "LABELS_RELATED = ['unrelated','related']\n",
        "# Getting the labels belonging to related category\n",
        "RELATED = LABELS[0:3]"
      ],
      "execution_count": 7,
      "outputs": [
        {
          "output_type": "stream",
          "text": [
            "Reading train dataset\n",
            "train_stances.csv\n",
            "Total stances: 49972\n",
            "Total bodies: 1683\n",
            "Reading train dataset\n",
            "competition_test_stances.csv\n",
            "Total stances: 25413\n",
            "Total bodies: 904\n"
          ],
          "name": "stdout"
        }
      ]
    },
    {
      "cell_type": "code",
      "metadata": {
        "id": "8yDN2uyU8mc2",
        "colab_type": "code",
        "colab": {}
      },
      "source": [
        "# headlines\n",
        "h = []\n",
        "h_test = []\n",
        "# labels for stance\n",
        "y = []\n",
        "test_label = []\n",
        "# body text\n",
        "b = []\n",
        "b_test = []\n",
        "# getting data for training set\n",
        "for s in train.stances:\n",
        "  h.append(s['Headline'])\n",
        "  b.append(train.articles[s['Body ID']])\n",
        "  y.append(LABELS.index(s['Stance']))\n",
        "# getting data for test set\n",
        "for s in test.stances:\n",
        "  h_test.append(s['Headline'])\n",
        "  b_test.append(test.articles[s['Body ID']])\n",
        "  test_label.append(LABELS.index(s['Stance']))"
      ],
      "execution_count": 8,
      "outputs": []
    },
    {
      "cell_type": "code",
      "metadata": {
        "id": "4f6Ew2zjLSzi",
        "colab_type": "code",
        "colab": {
          "base_uri": "https://localhost:8080/",
          "height": 34
        },
        "outputId": "6d95575e-b67b-4d91-cb93-fadad524afa8"
      },
      "source": [
        "# loading glove pretrained model\n",
        "# dictionary to store word vvectors\n",
        "embeddings_index = dict()\n",
        "f = open('glove.6B.100d.txt')\n",
        "# loop over each line to get vector and word\n",
        "for line in f:\n",
        "    values = line.split()\n",
        "    word = values[0]\n",
        "    coefs = np.asarray(values[1:], dtype='float32')\n",
        "    embeddings_index[word] = coefs\n",
        "f.close()\n",
        "print('Loaded %s word vectors.' % len(embeddings_index))"
      ],
      "execution_count": 11,
      "outputs": [
        {
          "output_type": "stream",
          "text": [
            "Loaded 400000 word vectors.\n"
          ],
          "name": "stdout"
        }
      ]
    },
    {
      "cell_type": "code",
      "metadata": {
        "id": "uw6b8qK5_9tW",
        "colab_type": "code",
        "colab": {
          "base_uri": "https://localhost:8080/",
          "height": 34
        },
        "outputId": "ceb937a8-56fb-46d2-bc8d-5c5e17377b4e"
      },
      "source": [
        "# preparing word index dictionary\n",
        "word_index = {w: i for i, w in enumerate(embeddings_index.keys(), 1)}\n",
        "dims = 100\n",
        "len(word_index)"
      ],
      "execution_count": 12,
      "outputs": [
        {
          "output_type": "execute_result",
          "data": {
            "text/plain": [
              "400000"
            ]
          },
          "metadata": {
            "tags": []
          },
          "execution_count": 12
        }
      ]
    },
    {
      "cell_type": "code",
      "metadata": {
        "id": "Y79lBHaOHjqo",
        "colab_type": "code",
        "colab": {}
      },
      "source": [
        "#create embedding matrix\n",
        "embedding_matrix = np.zeros((len(word_index) + 1, dims))\n",
        "for word, i in word_index.items():\n",
        "    embedding_vector = embeddings_index.get(word)\n",
        "    if embedding_vector is not None:\n",
        "        # words not found in embedding index will be all-zeros.\n",
        "        embedding_matrix[i] = embedding_vector[:dims]\n"
      ],
      "execution_count": 13,
      "outputs": []
    },
    {
      "cell_type": "code",
      "metadata": {
        "id": "NgtEeihwId4W",
        "colab_type": "code",
        "colab": {}
      },
      "source": [
        "# converting texts to sequence using text_to_word_sequence keras\n",
        "def texts_to_sequences(texts, word_index):\n",
        "    for text in texts:\n",
        "        tokens = text_to_word_sequence(text)\n",
        "        return [word_index.get(w) for w in tokens if w in word_index]"
      ],
      "execution_count": 14,
      "outputs": []
    },
    {
      "cell_type": "code",
      "metadata": {
        "id": "DQwOS1nq1v6x",
        "colab_type": "code",
        "colab": {}
      },
      "source": [
        "'''GENERATING TRAIN VALIDATION SETS SPLIT SO THAT THE ARTICLE BODIES DON'T OVERLAP'''\n",
        "# same as fnc-1 baseline\n",
        "import random\n",
        "import os\n",
        "from collections import defaultdict\n",
        "\n",
        "\n",
        "def generate_hold_out_split (dataset, training = 0.8, base_dir=\"splits\"):\n",
        "    r = random.Random()\n",
        "    r.seed(1489215)\n",
        "\n",
        "    article_ids = list(dataset.articles.keys())  # get a list of article ids\n",
        "    r.shuffle(article_ids)  # and shuffle that list\n",
        "\n",
        "\n",
        "    training_ids = article_ids[:int(training * len(article_ids))]\n",
        "    hold_out_ids = article_ids[int(training * len(article_ids)):]\n",
        "\n",
        "    # write the split body ids out to files for future use\n",
        "    with open(base_dir+ \"/\"+ \"training_ids.txt\", \"w+\") as f:\n",
        "        f.write(\"\\n\".join([str(id) for id in training_ids]))\n",
        "\n",
        "    with open(base_dir+ \"/\"+ \"hold_out_ids.txt\", \"w+\") as f:\n",
        "        f.write(\"\\n\".join([str(id) for id in hold_out_ids]))\n",
        "\n",
        "\n",
        "\n",
        "def read_ids(file,base):\n",
        "    ids = []\n",
        "    with open(base+\"/\"+file,\"r\") as f:\n",
        "        for line in f:\n",
        "           ids.append(int(line))\n",
        "        return ids\n",
        "\n",
        "\n",
        "def kfold_split(dataset, training = 0.8, n_folds = 10, base_dir=\"./\"):\n",
        "    if not (os.path.exists(base_dir+ \"/\"+ \"training_ids.txt\")\n",
        "            and os.path.exists(base_dir+ \"/\"+ \"hold_out_ids.txt\")):\n",
        "        generate_hold_out_split(dataset,training,base_dir)\n",
        "\n",
        "    training_ids = read_ids(\"training_ids.txt\", base_dir)\n",
        "    hold_out_ids = read_ids(\"hold_out_ids.txt\", base_dir)\n",
        "\n",
        "    folds = []\n",
        "    for k in range(n_folds):\n",
        "        folds.append(training_ids[int(k*len(training_ids)/n_folds):int((k+1)*len(training_ids)/n_folds)])\n",
        "\n",
        "    return folds,hold_out_ids\n",
        "\n",
        "\n",
        "def get_stances_for_folds(dataset,folds,hold_out):\n",
        "    stances_folds = defaultdict(list)\n",
        "    stances_hold_out = []\n",
        "    for stance in dataset.stances:\n",
        "        if stance['Body ID'] in hold_out:\n",
        "            stances_hold_out.append(stance)\n",
        "        else:\n",
        "            fold_id = 0\n",
        "            for fold in folds:\n",
        "                if stance['Body ID'] in fold:\n",
        "                    stances_folds[fold_id].append(stance)\n",
        "                fold_id += 1\n",
        "\n",
        "    return stances_folds,stances_hold_out\n"
      ],
      "execution_count": 15,
      "outputs": []
    },
    {
      "cell_type": "code",
      "metadata": {
        "id": "Ltl3lMDk2w_J",
        "colab_type": "code",
        "colab": {}
      },
      "source": [
        "# splitting into train & validation getting unique bodies\n",
        "folds,hold_out = kfold_split(train,n_folds=1)\n",
        "train_stances, val_stances = get_stances_for_folds(train,folds,hold_out)"
      ],
      "execution_count": 16,
      "outputs": []
    },
    {
      "cell_type": "code",
      "metadata": {
        "id": "5PNQ3s-s24pi",
        "colab_type": "code",
        "colab": {}
      },
      "source": [
        "# training data dataframe\n",
        "train_df =pd.DataFrame(columns = ['head', 'body', 'stance'])\n",
        "train_st = train_stances[0]\n",
        "train_h = []\n",
        "train_b = []\n",
        "train_s = []\n",
        "# loop over the length of training data\n",
        "for i in range(len(train_st)):\n",
        "  train_h.append(train_st[i]['Headline'])\n",
        "  train_b.append(train.articles[train_st[i]['Body ID']])\n",
        "  train_s.append(LABELS.index(train_st[i]['Stance']))\n",
        "# add data to train dataframe\n",
        "train_df['head'] = train_h\n",
        "train_df['body'] = train_b\n",
        "train_df['stance'] = train_s"
      ],
      "execution_count": 17,
      "outputs": []
    },
    {
      "cell_type": "code",
      "metadata": {
        "id": "PKBSEsMWCjuj",
        "colab_type": "code",
        "colab": {
          "base_uri": "https://localhost:8080/",
          "height": 204
        },
        "outputId": "94db99e8-c0fe-4275-d263-e030dab1fe81"
      },
      "source": [
        "train_df.head()"
      ],
      "execution_count": 18,
      "outputs": [
        {
          "output_type": "execute_result",
          "data": {
            "text/html": [
              "<div>\n",
              "<style scoped>\n",
              "    .dataframe tbody tr th:only-of-type {\n",
              "        vertical-align: middle;\n",
              "    }\n",
              "\n",
              "    .dataframe tbody tr th {\n",
              "        vertical-align: top;\n",
              "    }\n",
              "\n",
              "    .dataframe thead th {\n",
              "        text-align: right;\n",
              "    }\n",
              "</style>\n",
              "<table border=\"1\" class=\"dataframe\">\n",
              "  <thead>\n",
              "    <tr style=\"text-align: right;\">\n",
              "      <th></th>\n",
              "      <th>head</th>\n",
              "      <th>body</th>\n",
              "      <th>stance</th>\n",
              "    </tr>\n",
              "  </thead>\n",
              "  <tbody>\n",
              "    <tr>\n",
              "      <th>0</th>\n",
              "      <td>Hundreds of Palestinians flee floods in Gaza a...</td>\n",
              "      <td>Hundreds of Palestinians were evacuated from t...</td>\n",
              "      <td>0</td>\n",
              "    </tr>\n",
              "    <tr>\n",
              "      <th>1</th>\n",
              "      <td>Christian Bale passes on role of Steve Jobs, a...</td>\n",
              "      <td>30-year-old Moscow resident was hospitalized w...</td>\n",
              "      <td>3</td>\n",
              "    </tr>\n",
              "    <tr>\n",
              "      <th>2</th>\n",
              "      <td>HBO and Apple in Talks for $15/Month Apple TV ...</td>\n",
              "      <td>(Reuters) - A Canadian soldier was shot at the...</td>\n",
              "      <td>3</td>\n",
              "    </tr>\n",
              "    <tr>\n",
              "      <th>3</th>\n",
              "      <td>Spider burrowed through tourist's stomach and ...</td>\n",
              "      <td>Fear not arachnophobes, the story of Bunbury's...</td>\n",
              "      <td>1</td>\n",
              "    </tr>\n",
              "    <tr>\n",
              "      <th>4</th>\n",
              "      <td>Accused Boston Marathon Bomber Severely Injure...</td>\n",
              "      <td>A British fighter who travelled to Iraq to sto...</td>\n",
              "      <td>3</td>\n",
              "    </tr>\n",
              "  </tbody>\n",
              "</table>\n",
              "</div>"
            ],
            "text/plain": [
              "                                                head  ... stance\n",
              "0  Hundreds of Palestinians flee floods in Gaza a...  ...      0\n",
              "1  Christian Bale passes on role of Steve Jobs, a...  ...      3\n",
              "2  HBO and Apple in Talks for $15/Month Apple TV ...  ...      3\n",
              "3  Spider burrowed through tourist's stomach and ...  ...      1\n",
              "4  Accused Boston Marathon Bomber Severely Injure...  ...      3\n",
              "\n",
              "[5 rows x 3 columns]"
            ]
          },
          "metadata": {
            "tags": []
          },
          "execution_count": 18
        }
      ]
    },
    {
      "cell_type": "code",
      "metadata": {
        "id": "kKEoXN_S6-9V",
        "colab_type": "code",
        "colab": {}
      },
      "source": [
        "# validation data dataframe\n",
        "val_df =pd.DataFrame(columns = ['head', 'body', 'stance'])\n",
        "val_h = []\n",
        "val_b = []\n",
        "val_s = []\n",
        "# loop over validation set\n",
        "for i in range(len(val_stances)):\n",
        "  val_h.append(val_stances[i]['Headline'])\n",
        "  val_b.append(train.articles[val_stances[i]['Body ID']])\n",
        "  val_s.append(LABELS.index(val_stances[i]['Stance']))\n",
        "# add data to validation dataframe\n",
        "val_df['head'] = val_h\n",
        "val_df['body'] = val_b\n",
        "val_df['stance'] = val_s"
      ],
      "execution_count": 19,
      "outputs": []
    },
    {
      "cell_type": "code",
      "metadata": {
        "id": "5t8L1KxD_DX_",
        "colab_type": "code",
        "colab": {
          "base_uri": "https://localhost:8080/",
          "height": 204
        },
        "outputId": "e26c9736-b2b7-459d-eeb8-0a5dbcd689c0"
      },
      "source": [
        "val_df.head()"
      ],
      "execution_count": 20,
      "outputs": [
        {
          "output_type": "execute_result",
          "data": {
            "text/html": [
              "<div>\n",
              "<style scoped>\n",
              "    .dataframe tbody tr th:only-of-type {\n",
              "        vertical-align: middle;\n",
              "    }\n",
              "\n",
              "    .dataframe tbody tr th {\n",
              "        vertical-align: top;\n",
              "    }\n",
              "\n",
              "    .dataframe thead th {\n",
              "        text-align: right;\n",
              "    }\n",
              "</style>\n",
              "<table border=\"1\" class=\"dataframe\">\n",
              "  <thead>\n",
              "    <tr style=\"text-align: right;\">\n",
              "      <th></th>\n",
              "      <th>head</th>\n",
              "      <th>body</th>\n",
              "      <th>stance</th>\n",
              "    </tr>\n",
              "  </thead>\n",
              "  <tbody>\n",
              "    <tr>\n",
              "      <th>0</th>\n",
              "      <td>Police find mass graves with at least '15 bodi...</td>\n",
              "      <td>Danny Boyle is directing the untitled film\\n\\n...</td>\n",
              "      <td>3</td>\n",
              "    </tr>\n",
              "    <tr>\n",
              "      <th>1</th>\n",
              "      <td>'Nasa Confirms Earth Will Experience 6 Days of...</td>\n",
              "      <td>Thousands of people have been duped by a fake ...</td>\n",
              "      <td>0</td>\n",
              "    </tr>\n",
              "    <tr>\n",
              "      <th>2</th>\n",
              "      <td>Identity of ISIS terrorist known as 'Jihadi Jo...</td>\n",
              "      <td>Adding to Apple's iOS 8 launch troubles, a rep...</td>\n",
              "      <td>3</td>\n",
              "    </tr>\n",
              "    <tr>\n",
              "      <th>3</th>\n",
              "      <td>N. Korea’s Kim has leg injury but in control</td>\n",
              "      <td>You want a gold Apple Watch, you say? Then it'...</td>\n",
              "      <td>3</td>\n",
              "    </tr>\n",
              "    <tr>\n",
              "      <th>4</th>\n",
              "      <td>NET Extra: Back-from-the-dead Catholic priest ...</td>\n",
              "      <td>A 71 years old cleric Father John Micheal O’ne...</td>\n",
              "      <td>0</td>\n",
              "    </tr>\n",
              "  </tbody>\n",
              "</table>\n",
              "</div>"
            ],
            "text/plain": [
              "                                                head  ... stance\n",
              "0  Police find mass graves with at least '15 bodi...  ...      3\n",
              "1  'Nasa Confirms Earth Will Experience 6 Days of...  ...      0\n",
              "2  Identity of ISIS terrorist known as 'Jihadi Jo...  ...      3\n",
              "3       N. Korea’s Kim has leg injury but in control  ...      3\n",
              "4  NET Extra: Back-from-the-dead Catholic priest ...  ...      0\n",
              "\n",
              "[5 rows x 3 columns]"
            ]
          },
          "metadata": {
            "tags": []
          },
          "execution_count": 20
        }
      ]
    },
    {
      "cell_type": "code",
      "metadata": {
        "id": "2HN0QeQHAbpj",
        "colab_type": "code",
        "colab": {
          "base_uri": "https://localhost:8080/",
          "height": 34
        },
        "outputId": "efcf87bd-f0b5-4c68-9a72-c0e661fa1619"
      },
      "source": [
        "clean_head_train, clean_body_train = data_preprocessing(train_h, train_b)"
      ],
      "execution_count": 21,
      "outputs": [
        {
          "output_type": "stream",
          "text": [
            "40350it [02:37, 256.73it/s]\n"
          ],
          "name": "stderr"
        }
      ]
    },
    {
      "cell_type": "code",
      "metadata": {
        "id": "oM3kU3wgAkl2",
        "colab_type": "code",
        "colab": {
          "base_uri": "https://localhost:8080/",
          "height": 34
        },
        "outputId": "487afa93-b6ac-4700-896f-266bf2d7d13e"
      },
      "source": [
        "clean_head_val, clean_body_val = data_preprocessing(val_h, val_b)"
      ],
      "execution_count": 22,
      "outputs": [
        {
          "output_type": "stream",
          "text": [
            "9622it [00:36, 266.18it/s]\n"
          ],
          "name": "stderr"
        }
      ]
    },
    {
      "cell_type": "code",
      "metadata": {
        "id": "mhqW1I9QryL6",
        "colab_type": "code",
        "colab": {
          "base_uri": "https://localhost:8080/",
          "height": 34
        },
        "outputId": "7f0ab15f-e542-469a-8240-143af321596e"
      },
      "source": [
        "# datapreprocessing on head & body test\n",
        "clean_head_test, clean_body_test = data_preprocessing(h_test,b_test)"
      ],
      "execution_count": 23,
      "outputs": [
        {
          "output_type": "stream",
          "text": [
            "25413it [01:30, 279.65it/s]\n"
          ],
          "name": "stderr"
        }
      ]
    },
    {
      "cell_type": "code",
      "metadata": {
        "id": "NjahzUpyBVr0",
        "colab_type": "code",
        "colab": {}
      },
      "source": [
        "# adding columns of cleaned text in train & validation dataframe\n",
        "train_df['clean_head'] = clean_head_train\n",
        "train_df['clean_body'] = clean_body_train\n",
        "val_df['clean_head']= clean_head_val\n",
        "val_df['clean_body'] = clean_body_val"
      ],
      "execution_count": 24,
      "outputs": []
    },
    {
      "cell_type": "code",
      "metadata": {
        "id": "8z2dGJCAI7va",
        "colab_type": "code",
        "colab": {
          "base_uri": "https://localhost:8080/",
          "height": 204
        },
        "outputId": "dafb2b88-a036-4328-dc65-7a10d5c17bc8"
      },
      "source": [
        "# test dataframe with cleaned headline and article body\n",
        "test_df = pd.DataFrame(columns = ['head','body', 'stance'])\n",
        "test_df['head'] = clean_head_test\n",
        "test_df['body'] =  clean_body_test\n",
        "test_df['stance'] = test_label\n",
        "test_df.head()"
      ],
      "execution_count": 25,
      "outputs": [
        {
          "output_type": "execute_result",
          "data": {
            "text/html": [
              "<div>\n",
              "<style scoped>\n",
              "    .dataframe tbody tr th:only-of-type {\n",
              "        vertical-align: middle;\n",
              "    }\n",
              "\n",
              "    .dataframe tbody tr th {\n",
              "        vertical-align: top;\n",
              "    }\n",
              "\n",
              "    .dataframe thead th {\n",
              "        text-align: right;\n",
              "    }\n",
              "</style>\n",
              "<table border=\"1\" class=\"dataframe\">\n",
              "  <thead>\n",
              "    <tr style=\"text-align: right;\">\n",
              "      <th></th>\n",
              "      <th>head</th>\n",
              "      <th>body</th>\n",
              "      <th>stance</th>\n",
              "    </tr>\n",
              "  </thead>\n",
              "  <tbody>\n",
              "    <tr>\n",
              "      <th>0</th>\n",
              "      <td>ferguson riot pregnant woman loses eye cop bea...</td>\n",
              "      <td>respected senior french police officer investi...</td>\n",
              "      <td>3</td>\n",
              "    </tr>\n",
              "    <tr>\n",
              "      <th>1</th>\n",
              "      <td>crazy conservative sure gitmo detainee killed ...</td>\n",
              "      <td>dave morin s social networking company path re...</td>\n",
              "      <td>3</td>\n",
              "    </tr>\n",
              "    <tr>\n",
              "      <th>2</th>\n",
              "      <td>russian guy say justin bieber ringtone saved b...</td>\n",
              "      <td>bereaved afghan mother took revenge taliban wa...</td>\n",
              "      <td>3</td>\n",
              "    </tr>\n",
              "    <tr>\n",
              "      <th>3</th>\n",
              "      <td>zombie cat buried kitty believed dead meow life</td>\n",
              "      <td>hewlett packard officially splitting following...</td>\n",
              "      <td>3</td>\n",
              "    </tr>\n",
              "    <tr>\n",
              "      <th>4</th>\n",
              "      <td>argentina s president adopts boy end werewolf ...</td>\n",
              "      <td>airline passenger headed dallas wa removed pla...</td>\n",
              "      <td>3</td>\n",
              "    </tr>\n",
              "  </tbody>\n",
              "</table>\n",
              "</div>"
            ],
            "text/plain": [
              "                                                head  ... stance\n",
              "0  ferguson riot pregnant woman loses eye cop bea...  ...      3\n",
              "1  crazy conservative sure gitmo detainee killed ...  ...      3\n",
              "2  russian guy say justin bieber ringtone saved b...  ...      3\n",
              "3    zombie cat buried kitty believed dead meow life  ...      3\n",
              "4  argentina s president adopts boy end werewolf ...  ...      3\n",
              "\n",
              "[5 rows x 3 columns]"
            ]
          },
          "metadata": {
            "tags": []
          },
          "execution_count": 25
        }
      ]
    },
    {
      "cell_type": "code",
      "metadata": {
        "colab_type": "code",
        "id": "HwQwO3Fe8VEp",
        "colab": {}
      },
      "source": [
        "# texts to sequences for train, validation & test data\n",
        "X_train_head_seq = train_df['clean_head'].apply(lambda x: texts_to_sequences([x], word_index))\n",
        "X_train_body_seq = train_df['clean_body'].apply(lambda x: texts_to_sequences([x], word_index))\n",
        "X_val_head_seq = val_df['clean_head'].apply(lambda x: texts_to_sequences([x], word_index))\n",
        "X_val_body_seq = val_df['clean_body'].apply(lambda x: texts_to_sequences([x], word_index))\n",
        "X_test_head_seq = test_df['head'].apply(lambda x: texts_to_sequences([x], word_index))\n",
        "X_test_body_seq = test_df['body'].apply(lambda x: texts_to_sequences([x], word_index))"
      ],
      "execution_count": 26,
      "outputs": []
    },
    {
      "cell_type": "code",
      "metadata": {
        "colab_type": "code",
        "id": "axDD9BEY8VFs",
        "colab": {}
      },
      "source": [
        "# padding the headline and body text to make all of them of equal length\n",
        "max_head_len = 20\n",
        "max_body_len = 100\n",
        "X_train_head = pad_sequences(X_train_head_seq,maxlen = max_head_len,padding = 'post', truncating= 'post')\n",
        "X_train_body = pad_sequences(X_train_body_seq,maxlen = max_body_len,padding = 'post', truncating= 'post')\n",
        "X_test_head =pad_sequences(X_test_head_seq,maxlen = max_head_len,padding = 'post', truncating = 'post')\n",
        "X_test_body = pad_sequences(X_test_body_seq,maxlen = max_body_len,padding = 'post', truncating='post')\n",
        "X_val_head = pad_sequences(X_val_head_seq,maxlen = max_head_len,padding = 'post', truncating= 'post')\n",
        "X_val_body = pad_sequences(X_val_body_seq,maxlen = max_body_len,padding = 'post', truncating= 'post')"
      ],
      "execution_count": 27,
      "outputs": []
    },
    {
      "cell_type": "code",
      "metadata": {
        "colab_type": "code",
        "id": "8LBsgE6y8VF3",
        "colab": {}
      },
      "source": [
        "# getting the labels in for training the model\n",
        "y_train = np.ravel(train_df['stance'])\n",
        "y_val = np.ravel(val_df['stance'])\n",
        "y_test = np.ravel(test_df['stance'])"
      ],
      "execution_count": 28,
      "outputs": []
    },
    {
      "cell_type": "code",
      "metadata": {
        "id": "kPDqQSn8GWU6",
        "colab_type": "code",
        "colab": {
          "base_uri": "https://localhost:8080/",
          "height": 544
        },
        "outputId": "7139e5fb-317a-438a-d60a-e798c04d2709"
      },
      "source": [
        "'''INDEPENDENT ENCODING LSTM'''\n",
        "# input layer for head \n",
        "head_input = Input(shape=(max_head_len,), dtype='int32', name='head_input')\n",
        "# input layer for body\n",
        "body_input = Input(shape=(max_body_len,), dtype='int32', name='body_input')\n",
        "# shared embedding layer for head & body\n",
        "shared_embed = Embedding(len(word_index) + 1,dims,weights=[embedding_matrix],trainable=False)\n",
        "# head embedding layer\n",
        "head_embed = shared_embed(head_input)\n",
        "# body embedding layer\n",
        "body_embed = shared_embed(body_input)\n",
        "# head lstm layer and return states to give the states to the body LSTM layer\n",
        "head_lstm= LSTM(100,dropout=0.2, recurrent_dropout=0.2, name='head_lstm')(head_embed)\n",
        "# body lstm layer having same number of units as head and initialise with encoded states\n",
        "body_lstm = LSTM(100,dropout=0.2, recurrent_dropout=0.2, name='body_lstm')(body_embed)\n",
        "# concatenate layers\n",
        "concat = Concatenate()([head_lstm, body_lstm])\n",
        "# dense layer\n",
        "dense = Dense(100,activation='relu', kernel_regularizer=l2(0.01))(concat)\n",
        "dense = Dropout(0.3)(dense)\n",
        "# output layer\n",
        "dense = Dense(4,activation='softmax', kernel_regularizer=l2(0.01))(dense)\n",
        "# build model\n",
        "model = Model(inputs=[head_input,body_input], outputs=[dense])\n",
        "# compile model\n",
        "model.compile(optimizer='adam', loss='sparse_categorical_crossentropy',metrics=['acc'])\n",
        "print(model.summary())"
      ],
      "execution_count": 29,
      "outputs": [
        {
          "output_type": "stream",
          "text": [
            "WARNING:tensorflow:Layer head_lstm will not use cuDNN kernel since it doesn't meet the cuDNN kernel criteria. It will use generic GPU kernel as fallback when running on GPU\n",
            "WARNING:tensorflow:Layer body_lstm will not use cuDNN kernel since it doesn't meet the cuDNN kernel criteria. It will use generic GPU kernel as fallback when running on GPU\n",
            "Model: \"functional_1\"\n",
            "__________________________________________________________________________________________________\n",
            "Layer (type)                    Output Shape         Param #     Connected to                     \n",
            "==================================================================================================\n",
            "head_input (InputLayer)         [(None, 20)]         0                                            \n",
            "__________________________________________________________________________________________________\n",
            "body_input (InputLayer)         [(None, 100)]        0                                            \n",
            "__________________________________________________________________________________________________\n",
            "embedding (Embedding)           multiple             40000100    head_input[0][0]                 \n",
            "                                                                 body_input[0][0]                 \n",
            "__________________________________________________________________________________________________\n",
            "head_lstm (LSTM)                (None, 100)          80400       embedding[0][0]                  \n",
            "__________________________________________________________________________________________________\n",
            "body_lstm (LSTM)                (None, 100)          80400       embedding[1][0]                  \n",
            "__________________________________________________________________________________________________\n",
            "concatenate (Concatenate)       (None, 200)          0           head_lstm[0][0]                  \n",
            "                                                                 body_lstm[0][0]                  \n",
            "__________________________________________________________________________________________________\n",
            "dense (Dense)                   (None, 100)          20100       concatenate[0][0]                \n",
            "__________________________________________________________________________________________________\n",
            "dropout (Dropout)               (None, 100)          0           dense[0][0]                      \n",
            "__________________________________________________________________________________________________\n",
            "dense_1 (Dense)                 (None, 4)            404         dropout[0][0]                    \n",
            "==================================================================================================\n",
            "Total params: 40,181,404\n",
            "Trainable params: 181,304\n",
            "Non-trainable params: 40,000,100\n",
            "__________________________________________________________________________________________________\n",
            "None\n"
          ],
          "name": "stdout"
        }
      ]
    },
    {
      "cell_type": "code",
      "metadata": {
        "id": "PJMJcz2Rp5fW",
        "colab_type": "code",
        "colab": {
          "base_uri": "https://localhost:8080/",
          "height": 661
        },
        "outputId": "857b1e2b-8c7c-4754-a8d2-c442b12dd529"
      },
      "source": [
        "# plotting model\n",
        "from keras.utils import plot_model\n",
        "plot_model(model)"
      ],
      "execution_count": 37,
      "outputs": [
        {
          "output_type": "execute_result",
          "data": {
            "image/png": "[encoded data removed]",
            "text/plain": [
              "<IPython.core.display.Image object>"
            ]
          },
          "metadata": {
            "tags": []
          },
          "execution_count": 37
        }
      ]
    },
    {
      "cell_type": "code",
      "metadata": {
        "id": "Qtlv-lRLC9yx",
        "colab_type": "code",
        "colab": {
          "base_uri": "https://localhost:8080/",
          "height": 867
        },
        "outputId": "286f5b72-6471-4f28-f73f-e600a3af7c10"
      },
      "source": [
        "# training the model\n",
        "history = model.fit([X_train_head, X_train_body], y_train,batch_size=128,epochs=25, validation_data = ([X_val_head, X_val_body], y_val))"
      ],
      "execution_count": 32,
      "outputs": [
        {
          "output_type": "stream",
          "text": [
            "Epoch 1/25\n",
            "316/316 [==============================] - 194s 615ms/step - loss: 0.7773 - acc: 0.7417 - val_loss: 0.7695 - val_acc: 0.7234\n",
            "Epoch 2/25\n",
            "316/316 [==============================] - 190s 601ms/step - loss: 0.6924 - acc: 0.7555 - val_loss: 0.7120 - val_acc: 0.7223\n",
            "Epoch 3/25\n",
            "316/316 [==============================] - 190s 600ms/step - loss: 0.6375 - acc: 0.7710 - val_loss: 0.6816 - val_acc: 0.7336\n",
            "Epoch 4/25\n",
            "316/316 [==============================] - 194s 615ms/step - loss: 0.5974 - acc: 0.7797 - val_loss: 0.6580 - val_acc: 0.7540\n",
            "Epoch 5/25\n",
            "316/316 [==============================] - 194s 614ms/step - loss: 0.5987 - acc: 0.7799 - val_loss: 0.6606 - val_acc: 0.7524\n",
            "Epoch 6/25\n",
            "316/316 [==============================] - 190s 602ms/step - loss: 0.5542 - acc: 0.7981 - val_loss: 0.6537 - val_acc: 0.7491\n",
            "Epoch 7/25\n",
            "316/316 [==============================] - 190s 601ms/step - loss: 0.5333 - acc: 0.8125 - val_loss: 0.6420 - val_acc: 0.7643\n",
            "Epoch 8/25\n",
            "316/316 [==============================] - 192s 607ms/step - loss: 0.5277 - acc: 0.8172 - val_loss: 0.6387 - val_acc: 0.7546\n",
            "Epoch 9/25\n",
            "316/316 [==============================] - 193s 612ms/step - loss: 0.5097 - acc: 0.8286 - val_loss: 0.7203 - val_acc: 0.7218\n",
            "Epoch 10/25\n",
            "316/316 [==============================] - 192s 609ms/step - loss: 0.5136 - acc: 0.8250 - val_loss: 0.6402 - val_acc: 0.7562\n",
            "Epoch 11/25\n",
            "316/316 [==============================] - 192s 607ms/step - loss: 0.4848 - acc: 0.8410 - val_loss: 0.6388 - val_acc: 0.7589\n",
            "Epoch 12/25\n",
            "316/316 [==============================] - 191s 606ms/step - loss: 0.4777 - acc: 0.8457 - val_loss: 0.6308 - val_acc: 0.7548\n",
            "Epoch 13/25\n",
            "316/316 [==============================] - 192s 606ms/step - loss: 0.4698 - acc: 0.8504 - val_loss: 0.6197 - val_acc: 0.7656\n",
            "Epoch 14/25\n",
            "316/316 [==============================] - 193s 611ms/step - loss: 0.4654 - acc: 0.8529 - val_loss: 0.6569 - val_acc: 0.7600\n",
            "Epoch 15/25\n",
            "316/316 [==============================] - 194s 613ms/step - loss: 0.4576 - acc: 0.8564 - val_loss: 0.6708 - val_acc: 0.7206\n",
            "Epoch 16/25\n",
            "316/316 [==============================] - 195s 617ms/step - loss: 0.4565 - acc: 0.8575 - val_loss: 0.6420 - val_acc: 0.7617\n",
            "Epoch 17/25\n",
            "316/316 [==============================] - 192s 608ms/step - loss: 0.4477 - acc: 0.8642 - val_loss: 0.6371 - val_acc: 0.7541\n",
            "Epoch 18/25\n",
            "316/316 [==============================] - 191s 605ms/step - loss: 0.4435 - acc: 0.8658 - val_loss: 0.6459 - val_acc: 0.7675\n",
            "Epoch 19/25\n",
            "316/316 [==============================] - 190s 602ms/step - loss: 0.4320 - acc: 0.8725 - val_loss: 0.6382 - val_acc: 0.7679\n",
            "Epoch 20/25\n",
            "316/316 [==============================] - 191s 603ms/step - loss: 0.4256 - acc: 0.8765 - val_loss: 0.6423 - val_acc: 0.7574\n",
            "Epoch 21/25\n",
            "316/316 [==============================] - 193s 612ms/step - loss: 0.4302 - acc: 0.8743 - val_loss: 0.7060 - val_acc: 0.7602\n",
            "Epoch 22/25\n",
            "316/316 [==============================] - 197s 624ms/step - loss: 0.4270 - acc: 0.8766 - val_loss: 0.6165 - val_acc: 0.7723\n",
            "Epoch 23/25\n",
            "316/316 [==============================] - 198s 627ms/step - loss: 0.4117 - acc: 0.8838 - val_loss: 0.6368 - val_acc: 0.7663\n",
            "Epoch 24/25\n",
            "316/316 [==============================] - 199s 630ms/step - loss: 0.4076 - acc: 0.8867 - val_loss: 0.6398 - val_acc: 0.7757\n",
            "Epoch 25/25\n",
            "316/316 [==============================] - 194s 613ms/step - loss: 0.4018 - acc: 0.8876 - val_loss: 0.6458 - val_acc: 0.7733\n"
          ],
          "name": "stdout"
        }
      ]
    },
    {
      "cell_type": "code",
      "metadata": {
        "id": "sE2lR-Wy3pOo",
        "colab_type": "code",
        "colab": {
          "base_uri": "https://localhost:8080/",
          "height": 156
        },
        "outputId": "14327a32-5d28-49f3-f923-455e747f4826"
      },
      "source": [
        "# saving model \n",
        "model.save(\"lstm_independent\")"
      ],
      "execution_count": 33,
      "outputs": [
        {
          "output_type": "stream",
          "text": [
            "WARNING:tensorflow:From /usr/local/lib/python3.6/dist-packages/tensorflow/python/training/tracking/tracking.py:111: Model.state_updates (from tensorflow.python.keras.engine.training) is deprecated and will be removed in a future version.\n",
            "Instructions for updating:\n",
            "This property should not be used in TensorFlow 2.0, as updates are applied automatically.\n",
            "WARNING:tensorflow:From /usr/local/lib/python3.6/dist-packages/tensorflow/python/training/tracking/tracking.py:111: Layer.updates (from tensorflow.python.keras.engine.base_layer) is deprecated and will be removed in a future version.\n",
            "Instructions for updating:\n",
            "This property should not be used in TensorFlow 2.0, as updates are applied automatically.\n",
            "INFO:tensorflow:Assets written to: lstm_independent/assets\n"
          ],
          "name": "stdout"
        }
      ]
    },
    {
      "cell_type": "code",
      "metadata": {
        "id": "Lt4cQgp3gs5J",
        "colab_type": "code",
        "colab": {
          "base_uri": "https://localhost:8080/",
          "height": 573
        },
        "outputId": "27b4a581-e652-42fd-852d-d4fc5a0cbd8d"
      },
      "source": [
        "import matplotlib.pyplot as plt\n",
        "# summarize history for accuracy\n",
        "fig = plt.figure()\n",
        "plt.plot(history.history['acc'])\n",
        "plt.plot(history.history['val_acc'])\n",
        "plt.title('Independent Encoding network Accuracy')\n",
        "plt.ylabel('accuracy')\n",
        "plt.xlabel('epoch')\n",
        "plt.ylim([0.68,0.9])\n",
        "plt.legend(['train', 'val'], loc='upper right')\n",
        "fig.set_facecolor('white')\n",
        "plt.show()\n",
        "# summarize history for loss\n",
        "fig = plt.figure()\n",
        "plt.plot(history.history['loss'])\n",
        "plt.plot(history.history['val_loss'])\n",
        "plt.title('Independent Encoding network loss')\n",
        "plt.ylabel('loss')\n",
        "plt.xlabel('epoch')\n",
        "plt.legend(['train', 'val'], loc='upper right')\n",
        "fig.set_facecolor('white')\n",
        "plt.show()"
      ],
      "execution_count": 34,
      "outputs": [
        {
          "output_type": "display_data",
          "data": {
            "image/png": "[encoded data removed]",
            "text/plain": [
              "<Figure size 432x288 with 1 Axes>"
            ]
          },
          "metadata": {
            "tags": []
          }
        },
        {
          "output_type": "display_data",
          "data": {
            "image/png": "[encoded data removed]",
            "text/plain": [
              "<Figure size 432x288 with 1 Axes>"
            ]
          },
          "metadata": {
            "tags": []
          }
        }
      ]
    },
    {
      "cell_type": "code",
      "metadata": {
        "id": "R-mFLwsRg8g7",
        "colab_type": "code",
        "colab": {}
      },
      "source": [
        "# predicting on test set\n",
        "y_test_pred = model.predict([X_test_head, X_test_body])\n",
        "pred_test = np.argmax(y_test_pred, axis = 1)\n",
        "# predicting on train set\n",
        "y_train_pred = model.predict([X_train_head, X_train_body])\n",
        "pred_train = np.argmax(y_train_pred, axis = 1)\n",
        "# predicting on val set\n",
        "y_val_pred = model.predict([X_val_head, X_val_body])\n",
        "pred_val = np.argmax(y_val_pred, axis = 1)"
      ],
      "execution_count": 35,
      "outputs": []
    },
    {
      "cell_type": "code",
      "metadata": {
        "id": "Uu-681_-hADF",
        "colab_type": "code",
        "colab": {
          "base_uri": "https://localhost:8080/",
          "height": 119
        },
        "outputId": "929251d1-7f45-41b3-d9cb-4bc0cfac1a44"
      },
      "source": [
        "# accuracy and f1 score\n",
        "from sklearn.metrics import accuracy_score, recall_score, precision_score, f1_score, confusion_matrix\n",
        "print(\"test accuracy {}\".format(accuracy_score(y_true = y_test, y_pred = pred_test)))\n",
        "print(\"test F1 score {}\".format(f1_score(y_true = y_test, y_pred = pred_test, average='weighted')))\n",
        "\n",
        "print(\"train accuracy {}\".format(accuracy_score(y_true = y_train, y_pred = pred_train)))\n",
        "print(\"train F1 score {}\".format(f1_score(y_true = y_train, y_pred = pred_train, average='weighted')))\n",
        "\n",
        "print(\"val accuracy {}\".format(accuracy_score(y_true = y_val, y_pred = pred_val)))\n",
        "print(\"val F1 score {}\".format(f1_score(y_true = y_val, y_pred = pred_val, average='weighted')))\n"
      ],
      "execution_count": 36,
      "outputs": [
        {
          "output_type": "stream",
          "text": [
            "test accuracy 0.7083382520757093\n",
            "test F1 score 0.6950111633364441\n",
            "train accuracy 0.9004213135068153\n",
            "train F1 score 0.8907484033606284\n",
            "val accuracy 0.7733319476200374\n",
            "val F1 score 0.770550732860589\n"
          ],
          "name": "stdout"
        }
      ]
    },
    {
      "cell_type": "code",
      "metadata": {
        "id": "LPMmb1sc0pdF",
        "colab_type": "code",
        "colab": {}
      },
      "source": [
        "class unlab_DataSet():\n",
        "    def __init__(self, name, path=\"FakeNewsChallenge/fnc-1\"):\n",
        "        self.path = path\n",
        "\n",
        "        print(\"Reading test dataset\")\n",
        "        bodies = name+\"_bodies.csv\"\n",
        "        stances = name+\"_stances_unlabeled.csv\"\n",
        "        print(stances)\n",
        "\n",
        "        self.stances = self.read(stances)\n",
        "        articles = self.read(bodies)\n",
        "        self.articles = dict()\n",
        "\n",
        "        #make the body ID an integer value\n",
        "        for s in self.stances:\n",
        "            s['Body ID'] = int(s['Body ID'])\n",
        "\n",
        "        #copy all bodies into a dictionary\n",
        "        for article in articles:\n",
        "            self.articles[int(article['Body ID'])] = article['articleBody']\n",
        "\n",
        "        print(\"Total stances: \" + str(len(self.stances)))\n",
        "        print(\"Total bodies: \" + str(len(self.articles)))\n",
        "        \n",
        "    def read(self,filename):\n",
        "        rows = []\n",
        "        with open(self.path + \"/\" + filename, \"r\", encoding='utf-8') as table:\n",
        "            r = DictReader(table)\n",
        "\n",
        "            for line in r:\n",
        "                rows.append(line)\n",
        "        return rows"
      ],
      "execution_count": null,
      "outputs": []
    },
    {
      "cell_type": "code",
      "metadata": {
        "id": "Sgkv3x0w0s9j",
        "colab_type": "code",
        "colab": {
          "base_uri": "https://localhost:8080/",
          "height": 263
        },
        "outputId": "71a6a85e-a225-4d88-9256-5b91fadc7e52"
      },
      "source": [
        "# load file \n",
        "competition_test = unlab_DataSet(\"competition_test\")\n",
        "unlab_h = []\n",
        "unlab_b = []\n",
        "for s in competition_test.stances:\n",
        "  unlab_h.append(s['Headline'])\n",
        "  unlab_b.append(competition_test.articles[s['Body ID']])\n",
        "unlab_df = pd.DataFrame(columns= ['head', 'body'])\n",
        "unlab_df['head'] = unlab_h\n",
        "unlab_df['body'] = unlab_b\n",
        "unlab_df.head()"
      ],
      "execution_count": null,
      "outputs": [
        {
          "output_type": "stream",
          "text": [
            "Reading test dataset\n",
            "competition_test_stances_unlabeled.csv\n",
            "Total stances: 25413\n",
            "Total bodies: 904\n"
          ],
          "name": "stdout"
        },
        {
          "output_type": "execute_result",
          "data": {
            "text/html": [
              "<div>\n",
              "<style scoped>\n",
              "    .dataframe tbody tr th:only-of-type {\n",
              "        vertical-align: middle;\n",
              "    }\n",
              "\n",
              "    .dataframe tbody tr th {\n",
              "        vertical-align: top;\n",
              "    }\n",
              "\n",
              "    .dataframe thead th {\n",
              "        text-align: right;\n",
              "    }\n",
              "</style>\n",
              "<table border=\"1\" class=\"dataframe\">\n",
              "  <thead>\n",
              "    <tr style=\"text-align: right;\">\n",
              "      <th></th>\n",
              "      <th>head</th>\n",
              "      <th>body</th>\n",
              "    </tr>\n",
              "  </thead>\n",
              "  <tbody>\n",
              "    <tr>\n",
              "      <th>0</th>\n",
              "      <td>Ferguson riots: Pregnant woman loses eye after...</td>\n",
              "      <td>A RESPECTED senior French police officer inves...</td>\n",
              "    </tr>\n",
              "    <tr>\n",
              "      <th>1</th>\n",
              "      <td>Crazy Conservatives Are Sure a Gitmo Detainee ...</td>\n",
              "      <td>Dave Morin's social networking company Path is...</td>\n",
              "    </tr>\n",
              "    <tr>\n",
              "      <th>2</th>\n",
              "      <td>A Russian Guy Says His Justin Bieber Ringtone ...</td>\n",
              "      <td>A bereaved Afghan mother took revenge on the T...</td>\n",
              "    </tr>\n",
              "    <tr>\n",
              "      <th>3</th>\n",
              "      <td>Zombie Cat: Buried Kitty Believed Dead, Meows ...</td>\n",
              "      <td>Hewlett-Packard is officially splitting in two...</td>\n",
              "    </tr>\n",
              "    <tr>\n",
              "      <th>4</th>\n",
              "      <td>Argentina's President Adopts Boy to End Werewo...</td>\n",
              "      <td>An airline passenger headed to Dallas was remo...</td>\n",
              "    </tr>\n",
              "  </tbody>\n",
              "</table>\n",
              "</div>"
            ],
            "text/plain": [
              "                                                head                                               body\n",
              "0  Ferguson riots: Pregnant woman loses eye after...  A RESPECTED senior French police officer inves...\n",
              "1  Crazy Conservatives Are Sure a Gitmo Detainee ...  Dave Morin's social networking company Path is...\n",
              "2  A Russian Guy Says His Justin Bieber Ringtone ...  A bereaved Afghan mother took revenge on the T...\n",
              "3  Zombie Cat: Buried Kitty Believed Dead, Meows ...  Hewlett-Packard is officially splitting in two...\n",
              "4  Argentina's President Adopts Boy to End Werewo...  An airline passenger headed to Dallas was remo..."
            ]
          },
          "metadata": {
            "tags": []
          },
          "execution_count": 53
        }
      ]
    },
    {
      "cell_type": "code",
      "metadata": {
        "id": "ZZ58yW8a8blr",
        "colab_type": "code",
        "colab": {
          "base_uri": "https://localhost:8080/",
          "height": 33
        },
        "outputId": "5443e1ce-d3ed-4929-bd30-03ea6c82d22c"
      },
      "source": [
        "clean_head_unlab, clean_body_unlab = data_preprocessing(unlab_h, unlab_b)"
      ],
      "execution_count": null,
      "outputs": [
        {
          "output_type": "stream",
          "text": [
            "25413it [01:10, 358.74it/s]\n"
          ],
          "name": "stderr"
        }
      ]
    },
    {
      "cell_type": "code",
      "metadata": {
        "id": "uX9YMGpK8byY",
        "colab_type": "code",
        "colab": {}
      },
      "source": [
        "unlab_df['clean_head'] = clean_head_unlab\n",
        "unlab_df['clean_body'] = clean_body_unlab"
      ],
      "execution_count": null,
      "outputs": []
    },
    {
      "cell_type": "code",
      "metadata": {
        "id": "MDkuWu2o9K7v",
        "colab_type": "code",
        "colab": {
          "base_uri": "https://localhost:8080/",
          "height": 280
        },
        "outputId": "7ba04aba-a0c6-46fe-b8d9-fc744646563c"
      },
      "source": [
        "unlab_df.head()"
      ],
      "execution_count": null,
      "outputs": [
        {
          "output_type": "execute_result",
          "data": {
            "text/html": [
              "<div>\n",
              "<style scoped>\n",
              "    .dataframe tbody tr th:only-of-type {\n",
              "        vertical-align: middle;\n",
              "    }\n",
              "\n",
              "    .dataframe tbody tr th {\n",
              "        vertical-align: top;\n",
              "    }\n",
              "\n",
              "    .dataframe thead th {\n",
              "        text-align: right;\n",
              "    }\n",
              "</style>\n",
              "<table border=\"1\" class=\"dataframe\">\n",
              "  <thead>\n",
              "    <tr style=\"text-align: right;\">\n",
              "      <th></th>\n",
              "      <th>head</th>\n",
              "      <th>body</th>\n",
              "      <th>clean_head</th>\n",
              "      <th>clean_body</th>\n",
              "    </tr>\n",
              "  </thead>\n",
              "  <tbody>\n",
              "    <tr>\n",
              "      <th>0</th>\n",
              "      <td>Ferguson riots: Pregnant woman loses eye after...</td>\n",
              "      <td>A RESPECTED senior French police officer inves...</td>\n",
              "      <td>ferguson riot pregnant woman loses eye cop bea...</td>\n",
              "      <td>respected senior french police officer investi...</td>\n",
              "    </tr>\n",
              "    <tr>\n",
              "      <th>1</th>\n",
              "      <td>Crazy Conservatives Are Sure a Gitmo Detainee ...</td>\n",
              "      <td>Dave Morin's social networking company Path is...</td>\n",
              "      <td>crazy conservative sure gitmo detainee killed ...</td>\n",
              "      <td>dave morin s social networking company path re...</td>\n",
              "    </tr>\n",
              "    <tr>\n",
              "      <th>2</th>\n",
              "      <td>A Russian Guy Says His Justin Bieber Ringtone ...</td>\n",
              "      <td>A bereaved Afghan mother took revenge on the T...</td>\n",
              "      <td>russian guy say justin bieber ringtone saved b...</td>\n",
              "      <td>bereaved afghan mother took revenge taliban wa...</td>\n",
              "    </tr>\n",
              "    <tr>\n",
              "      <th>3</th>\n",
              "      <td>Zombie Cat: Buried Kitty Believed Dead, Meows ...</td>\n",
              "      <td>Hewlett-Packard is officially splitting in two...</td>\n",
              "      <td>zombie cat buried kitty believed dead meow life</td>\n",
              "      <td>hewlett packard officially splitting following...</td>\n",
              "    </tr>\n",
              "    <tr>\n",
              "      <th>4</th>\n",
              "      <td>Argentina's President Adopts Boy to End Werewo...</td>\n",
              "      <td>An airline passenger headed to Dallas was remo...</td>\n",
              "      <td>argentina s president adopts boy end werewolf ...</td>\n",
              "      <td>airline passenger headed dallas wa removed pla...</td>\n",
              "    </tr>\n",
              "  </tbody>\n",
              "</table>\n",
              "</div>"
            ],
            "text/plain": [
              "                                                head  ...                                         clean_body\n",
              "0  Ferguson riots: Pregnant woman loses eye after...  ...  respected senior french police officer investi...\n",
              "1  Crazy Conservatives Are Sure a Gitmo Detainee ...  ...  dave morin s social networking company path re...\n",
              "2  A Russian Guy Says His Justin Bieber Ringtone ...  ...  bereaved afghan mother took revenge taliban wa...\n",
              "3  Zombie Cat: Buried Kitty Believed Dead, Meows ...  ...  hewlett packard officially splitting following...\n",
              "4  Argentina's President Adopts Boy to End Werewo...  ...  airline passenger headed dallas wa removed pla...\n",
              "\n",
              "[5 rows x 4 columns]"
            ]
          },
          "metadata": {
            "tags": []
          },
          "execution_count": 56
        }
      ]
    },
    {
      "cell_type": "code",
      "metadata": {
        "colab_type": "code",
        "id": "5dN_5K1-9ahM",
        "colab": {}
      },
      "source": [
        "# texts to sequences for train, validation & test data\n",
        "X_unlab_head_seq = unlab_df['clean_head'].apply(lambda x: texts_to_sequences([x], word_index))\n",
        "X_unlab_body_seq = unlab_df['clean_body'].apply(lambda x: texts_to_sequences([x], word_index))"
      ],
      "execution_count": null,
      "outputs": []
    },
    {
      "cell_type": "code",
      "metadata": {
        "colab_type": "code",
        "id": "XdXUfe8B9ahQ",
        "colab": {}
      },
      "source": [
        "# umnlabeled data\n",
        "X_unlab_head = pad_sequences(X_unlab_head_seq,maxlen = max_head_len,padding = 'post', truncating= 'post')\n",
        "X_unlab_body = pad_sequences(X_unlab_body_seq,maxlen = max_body_len,padding = 'post', truncating= 'post')"
      ],
      "execution_count": null,
      "outputs": []
    },
    {
      "cell_type": "code",
      "metadata": {
        "id": "na78odS09t9i",
        "colab_type": "code",
        "colab": {}
      },
      "source": [
        "# predicting labels\n",
        "y_pred_unlab = model.predict([X_unlab_head, X_unlab_body])\n",
        "y_labels = np.argmax(y_pred_unlab, axis = 1)"
      ],
      "execution_count": null,
      "outputs": []
    },
    {
      "cell_type": "code",
      "metadata": {
        "id": "jlVhenQs-B4T",
        "colab_type": "code",
        "colab": {}
      },
      "source": [
        "# predicted stances\n",
        "predicted_stances = []\n",
        "for i in range(len(y_labels)):\n",
        "  predicted_stances.append(LABELS[y_labels[i]])"
      ],
      "execution_count": null,
      "outputs": []
    },
    {
      "cell_type": "code",
      "metadata": {
        "id": "7bzM5yap8qeB",
        "colab_type": "code",
        "colab": {}
      },
      "source": [
        "# dataframe for answer.csv\n",
        "df = pd.read_csv(\"FakeNewsChallenge/fnc-1/competition_test_stances_unlabeled.csv\")\n",
        "df['Stance'] = predicted_stances"
      ],
      "execution_count": null,
      "outputs": []
    },
    {
      "cell_type": "code",
      "metadata": {
        "id": "bkQmgYJM8q7F",
        "colab_type": "code",
        "colab": {
          "base_uri": "https://localhost:8080/",
          "height": 196
        },
        "outputId": "ab86a569-1b02-4844-89ca-e73780197c70"
      },
      "source": [
        "df.head()"
      ],
      "execution_count": null,
      "outputs": [
        {
          "output_type": "execute_result",
          "data": {
            "text/html": [
              "<div>\n",
              "<style scoped>\n",
              "    .dataframe tbody tr th:only-of-type {\n",
              "        vertical-align: middle;\n",
              "    }\n",
              "\n",
              "    .dataframe tbody tr th {\n",
              "        vertical-align: top;\n",
              "    }\n",
              "\n",
              "    .dataframe thead th {\n",
              "        text-align: right;\n",
              "    }\n",
              "</style>\n",
              "<table border=\"1\" class=\"dataframe\">\n",
              "  <thead>\n",
              "    <tr style=\"text-align: right;\">\n",
              "      <th></th>\n",
              "      <th>Headline</th>\n",
              "      <th>Body ID</th>\n",
              "      <th>Stance</th>\n",
              "    </tr>\n",
              "  </thead>\n",
              "  <tbody>\n",
              "    <tr>\n",
              "      <th>0</th>\n",
              "      <td>Ferguson riots: Pregnant woman loses eye after...</td>\n",
              "      <td>2008</td>\n",
              "      <td>unrelated</td>\n",
              "    </tr>\n",
              "    <tr>\n",
              "      <th>1</th>\n",
              "      <td>Crazy Conservatives Are Sure a Gitmo Detainee ...</td>\n",
              "      <td>1550</td>\n",
              "      <td>unrelated</td>\n",
              "    </tr>\n",
              "    <tr>\n",
              "      <th>2</th>\n",
              "      <td>A Russian Guy Says His Justin Bieber Ringtone ...</td>\n",
              "      <td>2</td>\n",
              "      <td>unrelated</td>\n",
              "    </tr>\n",
              "    <tr>\n",
              "      <th>3</th>\n",
              "      <td>Zombie Cat: Buried Kitty Believed Dead, Meows ...</td>\n",
              "      <td>1793</td>\n",
              "      <td>unrelated</td>\n",
              "    </tr>\n",
              "    <tr>\n",
              "      <th>4</th>\n",
              "      <td>Argentina's President Adopts Boy to End Werewo...</td>\n",
              "      <td>37</td>\n",
              "      <td>unrelated</td>\n",
              "    </tr>\n",
              "  </tbody>\n",
              "</table>\n",
              "</div>"
            ],
            "text/plain": [
              "                                            Headline  Body ID     Stance\n",
              "0  Ferguson riots: Pregnant woman loses eye after...     2008  unrelated\n",
              "1  Crazy Conservatives Are Sure a Gitmo Detainee ...     1550  unrelated\n",
              "2  A Russian Guy Says His Justin Bieber Ringtone ...        2  unrelated\n",
              "3  Zombie Cat: Buried Kitty Believed Dead, Meows ...     1793  unrelated\n",
              "4  Argentina's President Adopts Boy to End Werewo...       37  unrelated"
            ]
          },
          "metadata": {
            "tags": []
          },
          "execution_count": 62
        }
      ]
    },
    {
      "cell_type": "code",
      "metadata": {
        "id": "hNQvK21l_YHN",
        "colab_type": "code",
        "colab": {}
      },
      "source": [
        "# writing to csv\n",
        "df.to_csv('answer.csv', index=False, encoding='utf-8') # From pandas library"
      ],
      "execution_count": null,
      "outputs": []
    }
  ]
}