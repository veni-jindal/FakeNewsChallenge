{
  "nbformat": 4,
  "nbformat_minor": 0,
  "metadata": {
    "colab": {
      "name": "Final_BiLSTM_cond_FNC.ipynb",
      "provenance": [],
      "collapsed_sections": []
    },
    "kernelspec": {
      "name": "python3",
      "display_name": "Python 3"
    },
    "accelerator": "GPU"
  },
  "cells": [
    {
      "cell_type": "code",
      "metadata": {
        "id": "TqlcFExp06jA",
        "colab_type": "code",
        "colab": {
          "base_uri": "https://localhost:8080/",
          "height": 34
        },
        "outputId": "83c7bfe3-c755-447a-cc43-aa24a5251688"
      },
      "source": [
        "# cloning the rgithub repository of fnc to get data in colab\n",
        "!git clone https://github.com/veni-jindal/FakeNewsChallenge.git"
      ],
      "execution_count": 10,
      "outputs": [
        {
          "output_type": "stream",
          "text": [
            "fatal: destination path 'FakeNewsChallenge' already exists and is not an empty directory.\n"
          ],
          "name": "stdout"
        }
      ]
    },
    {
      "cell_type": "code",
      "metadata": {
        "id": "xT_PysUs08Ml",
        "colab_type": "code",
        "colab": {
          "base_uri": "https://localhost:8080/",
          "height": 84
        },
        "outputId": "9d0ad0cf-6e13-4372-887a-04fd7cf93df3"
      },
      "source": [
        "# importing required packages\n",
        "import pandas as pd\n",
        "import numpy as np\n",
        "import os\n",
        "from csv import DictReader\n",
        "import re\n",
        "import nltk\n",
        "from sklearn import feature_extraction\n",
        "nltk.download('wordnet')\n",
        "nltk.download('punkt')\n",
        "_wnl = nltk.WordNetLemmatizer()\n",
        "from tqdm import tqdm"
      ],
      "execution_count": 11,
      "outputs": [
        {
          "output_type": "stream",
          "text": [
            "[nltk_data] Downloading package wordnet to /root/nltk_data...\n",
            "[nltk_data]   Package wordnet is already up-to-date!\n",
            "[nltk_data] Downloading package punkt to /root/nltk_data...\n",
            "[nltk_data]   Package punkt is already up-to-date!\n"
          ],
          "name": "stdout"
        }
      ]
    },
    {
      "cell_type": "code",
      "metadata": {
        "id": "Kv30oOxi_8Wl",
        "colab_type": "code",
        "colab": {}
      },
      "source": [
        "import tensorflow as tf\n",
        "import keras\n",
        "from keras.utils import to_categorical\n",
        "from keras.models import Sequential, Model\n",
        "from keras.layers import Embedding, Bidirectional, LSTM, Dense, Input, concatenate, dot, Dropout\n",
        "from keras.preprocessing.text import text_to_word_sequence\n",
        "from keras.preprocessing.text import Tokenizer\n",
        "from keras.preprocessing.sequence import pad_sequences\n",
        "from keras.regularizers import l2"
      ],
      "execution_count": 12,
      "outputs": []
    },
    {
      "cell_type": "code",
      "metadata": {
        "id": "v0VJCBNq1lC_",
        "colab_type": "code",
        "colab": {}
      },
      "source": [
        "# reading the dataset from the fnc-1 data\n",
        "class DataSet():\n",
        "    def __init__(self, name, path=\"FakeNewsChallenge/fnc-1\"):\n",
        "        self.path = path\n",
        "\n",
        "        print(\"Reading train dataset\")\n",
        "        bodies = name+\"_bodies.csv\"\n",
        "        stances = name+\"_stances.csv\"\n",
        "        print(stances)\n",
        "\n",
        "        self.stances = self.read(stances)\n",
        "        articles = self.read(bodies)\n",
        "        self.articles = dict()\n",
        "\n",
        "        #make the body ID an integer value\n",
        "        for s in self.stances:\n",
        "            s['Body ID'] = int(s['Body ID'])\n",
        "\n",
        "        #copy all bodies into a dictionary\n",
        "        for article in articles:\n",
        "            self.articles[int(article['Body ID'])] = article['articleBody']\n",
        "\n",
        "        print(\"Total stances: \" + str(len(self.stances)))\n",
        "        print(\"Total bodies: \" + str(len(self.articles)))\n",
        "    \n",
        "    def read(self,filename):\n",
        "        rows = []\n",
        "        with open(self.path + \"/\" + filename, \"r\", encoding='utf-8') as table:\n",
        "            r = DictReader(table)\n",
        "\n",
        "            for line in r:\n",
        "                rows.append(line)\n",
        "        return rows"
      ],
      "execution_count": 13,
      "outputs": []
    },
    {
      "cell_type": "code",
      "metadata": {
        "id": "Zn8p3t2U3s1h",
        "colab_type": "code",
        "colab": {}
      },
      "source": [
        "'''Preprocessing steps used for cleaning the text'''\n",
        "# getting the root word\n",
        "def normalize_word(w):\n",
        "    return _wnl.lemmatize(w).lower()\n",
        "\n",
        "# tokenisation and lowering the text\n",
        "def get_tokenized_lemmas(s):\n",
        "    return [normalize_word(t) for t in nltk.word_tokenize(s)]\n",
        "\n",
        "# Cleans a string: Lowercasing, trimming, removing non-alphanumeric\n",
        "def clean(s):  \n",
        "    return \" \".join(re.findall(r'\\w+', s, flags=re.UNICODE)).lower()\n",
        "\n",
        "# Removes stopwords from a list of tokens\n",
        "def remove_stopwords(l):\n",
        "    return [w for w in l if w not in feature_extraction.text.ENGLISH_STOP_WORDS]\n"
      ],
      "execution_count": 14,
      "outputs": []
    },
    {
      "cell_type": "code",
      "metadata": {
        "id": "fI06bg6669pE",
        "colab_type": "code",
        "colab": {}
      },
      "source": [
        "# data preprocessing of headlines & bodies\n",
        "def data_preprocessing(headlines, bodies):\n",
        "    # clean_head, clean_body\n",
        "    clean_h = []\n",
        "    clean_b = []\n",
        "    for i, (headline, body) in tqdm(enumerate(zip(headlines, bodies))):\n",
        "    \n",
        "      clean_headline = clean(headline)\n",
        "      clean_body = clean(body)\n",
        "      clean_headline = get_tokenized_lemmas(clean_headline)\n",
        "      clean_body = get_tokenized_lemmas(clean_body)\n",
        "      clean_headline = remove_stopwords(clean_headline)\n",
        "      clean_body = remove_stopwords(clean_body)\n",
        "      clean_h.append(' '.join(clean_headline))\n",
        "      clean_b.append(' '.join(clean_body))\n",
        "    \n",
        "    return(clean_h, clean_b)\n",
        "      "
      ],
      "execution_count": 15,
      "outputs": []
    },
    {
      "cell_type": "code",
      "metadata": {
        "id": "aRFqnHLS2bSN",
        "colab_type": "code",
        "colab": {
          "base_uri": "https://localhost:8080/",
          "height": 151
        },
        "outputId": "131c97ee-608f-4ad4-976c-a9d6885d90d6"
      },
      "source": [
        "# getting train dataset\n",
        "train = DataSet(\"train\")\n",
        "# getting test dataset\n",
        "test = DataSet(\"competition_test\")\n",
        "# labels list\n",
        "LABELS = ['agree', 'disagree', 'discuss', 'unrelated']\n",
        "# labels - Related/Unrelated\n",
        "LABELS_RELATED = ['unrelated','related']\n",
        "# Getting the labels belonging to related category\n",
        "RELATED = LABELS[0:3]"
      ],
      "execution_count": 16,
      "outputs": [
        {
          "output_type": "stream",
          "text": [
            "Reading train dataset\n",
            "train_stances.csv\n",
            "Total stances: 49972\n",
            "Total bodies: 1683\n",
            "Reading train dataset\n",
            "competition_test_stances.csv\n",
            "Total stances: 25413\n",
            "Total bodies: 904\n"
          ],
          "name": "stdout"
        }
      ]
    },
    {
      "cell_type": "code",
      "metadata": {
        "id": "8yDN2uyU8mc2",
        "colab_type": "code",
        "colab": {}
      },
      "source": [
        "# headlines\n",
        "h = []\n",
        "h_test = []\n",
        "# labels for stance\n",
        "y = []\n",
        "test_label = []\n",
        "# body text\n",
        "b = []\n",
        "b_test = []\n",
        "# getting data for training set\n",
        "for s in train.stances:\n",
        "  h.append(s['Headline'])\n",
        "  b.append(train.articles[s['Body ID']])\n",
        "  y.append(LABELS.index(s['Stance']))\n",
        "# getting data for test set\n",
        "for s in test.stances:\n",
        "  h_test.append(s['Headline'])\n",
        "  b_test.append(test.articles[s['Body ID']])\n",
        "  test_label.append(LABELS.index(s['Stance']))"
      ],
      "execution_count": 17,
      "outputs": []
    },
    {
      "cell_type": "code",
      "metadata": {
        "id": "4f6Ew2zjLSzi",
        "colab_type": "code",
        "colab": {
          "base_uri": "https://localhost:8080/",
          "height": 34
        },
        "outputId": "fc54b684-121a-4255-ccf2-6c1f92ced2d2"
      },
      "source": [
        "# loading glove pretrained model\n",
        "# dictionary to store word vvectors\n",
        "embeddings_index = dict()\n",
        "f = open('glove.6B.100d.txt')\n",
        "# loop over each line to get vector and word\n",
        "for line in f:\n",
        "    values = line.split()\n",
        "    word = values[0]\n",
        "    coefs = np.asarray(values[1:], dtype='float32')\n",
        "    embeddings_index[word] = coefs\n",
        "f.close()\n",
        "print('Loaded %s word vectors.' % len(embeddings_index))"
      ],
      "execution_count": 18,
      "outputs": [
        {
          "output_type": "stream",
          "text": [
            "Loaded 400000 word vectors.\n"
          ],
          "name": "stdout"
        }
      ]
    },
    {
      "cell_type": "code",
      "metadata": {
        "id": "uw6b8qK5_9tW",
        "colab_type": "code",
        "colab": {
          "base_uri": "https://localhost:8080/",
          "height": 34
        },
        "outputId": "4fef82bf-44c0-4dd5-8dbf-10b173edee60"
      },
      "source": [
        "# preparing word index dictionary\n",
        "word_index = {w: i for i, w in enumerate(embeddings_index.keys(), 1)}\n",
        "dims = 100\n",
        "len(word_index)"
      ],
      "execution_count": 19,
      "outputs": [
        {
          "output_type": "execute_result",
          "data": {
            "text/plain": [
              "400000"
            ]
          },
          "metadata": {
            "tags": []
          },
          "execution_count": 19
        }
      ]
    },
    {
      "cell_type": "code",
      "metadata": {
        "id": "Y79lBHaOHjqo",
        "colab_type": "code",
        "colab": {}
      },
      "source": [
        "#create embedding matrix\n",
        "embedding_matrix = np.zeros((len(word_index) + 1, dims))\n",
        "for word, i in word_index.items():\n",
        "    embedding_vector = embeddings_index.get(word)\n",
        "    if embedding_vector is not None:\n",
        "        # words not found in embedding index will be all-zeros.\n",
        "        embedding_matrix[i] = embedding_vector[:dims]\n"
      ],
      "execution_count": 20,
      "outputs": []
    },
    {
      "cell_type": "code",
      "metadata": {
        "id": "NgtEeihwId4W",
        "colab_type": "code",
        "colab": {}
      },
      "source": [
        "# converting texts to sequence using text_to_word_sequence keras\n",
        "def texts_to_sequences(texts, word_index):\n",
        "    for text in texts:\n",
        "        tokens = text_to_word_sequence(text)\n",
        "        return [word_index.get(w) for w in tokens if w in word_index]"
      ],
      "execution_count": 21,
      "outputs": []
    },
    {
      "cell_type": "code",
      "metadata": {
        "id": "DQwOS1nq1v6x",
        "colab_type": "code",
        "colab": {}
      },
      "source": [
        "'''GENERATING TRAIN VALIDATION SETS SPLIT SO THAT THE ARTICLE BODIES DON'T OVERLAP'''\n",
        "# same as fnc-1 baseline\n",
        "import random\n",
        "import os\n",
        "from collections import defaultdict\n",
        "\n",
        "\n",
        "def generate_hold_out_split (dataset, training = 0.8, base_dir=\"splits\"):\n",
        "    r = random.Random()\n",
        "    r.seed(1489215)\n",
        "\n",
        "    article_ids = list(dataset.articles.keys())  # get a list of article ids\n",
        "    r.shuffle(article_ids)  # and shuffle that list\n",
        "\n",
        "\n",
        "    training_ids = article_ids[:int(training * len(article_ids))]\n",
        "    hold_out_ids = article_ids[int(training * len(article_ids)):]\n",
        "\n",
        "    # write the split body ids out to files for future use\n",
        "    with open(base_dir+ \"/\"+ \"training_ids.txt\", \"w+\") as f:\n",
        "        f.write(\"\\n\".join([str(id) for id in training_ids]))\n",
        "\n",
        "    with open(base_dir+ \"/\"+ \"hold_out_ids.txt\", \"w+\") as f:\n",
        "        f.write(\"\\n\".join([str(id) for id in hold_out_ids]))\n",
        "\n",
        "\n",
        "\n",
        "def read_ids(file,base):\n",
        "    ids = []\n",
        "    with open(base+\"/\"+file,\"r\") as f:\n",
        "        for line in f:\n",
        "           ids.append(int(line))\n",
        "        return ids\n",
        "\n",
        "\n",
        "def kfold_split(dataset, training = 0.8, n_folds = 10, base_dir=\"./\"):\n",
        "    if not (os.path.exists(base_dir+ \"/\"+ \"training_ids.txt\")\n",
        "            and os.path.exists(base_dir+ \"/\"+ \"hold_out_ids.txt\")):\n",
        "        generate_hold_out_split(dataset,training,base_dir)\n",
        "\n",
        "    training_ids = read_ids(\"training_ids.txt\", base_dir)\n",
        "    hold_out_ids = read_ids(\"hold_out_ids.txt\", base_dir)\n",
        "\n",
        "    folds = []\n",
        "    for k in range(n_folds):\n",
        "        folds.append(training_ids[int(k*len(training_ids)/n_folds):int((k+1)*len(training_ids)/n_folds)])\n",
        "\n",
        "    return folds,hold_out_ids\n",
        "\n",
        "\n",
        "def get_stances_for_folds(dataset,folds,hold_out):\n",
        "    stances_folds = defaultdict(list)\n",
        "    stances_hold_out = []\n",
        "    for stance in dataset.stances:\n",
        "        if stance['Body ID'] in hold_out:\n",
        "            stances_hold_out.append(stance)\n",
        "        else:\n",
        "            fold_id = 0\n",
        "            for fold in folds:\n",
        "                if stance['Body ID'] in fold:\n",
        "                    stances_folds[fold_id].append(stance)\n",
        "                fold_id += 1\n",
        "\n",
        "    return stances_folds,stances_hold_out\n"
      ],
      "execution_count": 22,
      "outputs": []
    },
    {
      "cell_type": "code",
      "metadata": {
        "id": "Ltl3lMDk2w_J",
        "colab_type": "code",
        "colab": {}
      },
      "source": [
        "# splitting into train & validation getting unique bodies\n",
        "folds,hold_out = kfold_split(train,n_folds=1)\n",
        "train_stances, val_stances = get_stances_for_folds(train,folds,hold_out)"
      ],
      "execution_count": 23,
      "outputs": []
    },
    {
      "cell_type": "code",
      "metadata": {
        "id": "5PNQ3s-s24pi",
        "colab_type": "code",
        "colab": {}
      },
      "source": [
        "# training data dataframe\n",
        "train_df =pd.DataFrame(columns = ['head', 'body', 'stance'])\n",
        "train_st = train_stances[0]\n",
        "train_h = []\n",
        "train_b = []\n",
        "train_s = []\n",
        "# loop over the length of training data\n",
        "for i in range(len(train_st)):\n",
        "  train_h.append(train_st[i]['Headline'])\n",
        "  train_b.append(train.articles[train_st[i]['Body ID']])\n",
        "  train_s.append(LABELS.index(train_st[i]['Stance']))\n",
        "# add data to train dataframe\n",
        "train_df['head'] = train_h\n",
        "train_df['body'] = train_b\n",
        "train_df['stance'] = train_s"
      ],
      "execution_count": 24,
      "outputs": []
    },
    {
      "cell_type": "code",
      "metadata": {
        "id": "PKBSEsMWCjuj",
        "colab_type": "code",
        "colab": {
          "base_uri": "https://localhost:8080/",
          "height": 195
        },
        "outputId": "3cb479d2-165b-4310-9fb3-c60da671d401"
      },
      "source": [
        "train_df.head()"
      ],
      "execution_count": 25,
      "outputs": [
        {
          "output_type": "execute_result",
          "data": {
            "text/html": [
              "<div>\n",
              "<style scoped>\n",
              "    .dataframe tbody tr th:only-of-type {\n",
              "        vertical-align: middle;\n",
              "    }\n",
              "\n",
              "    .dataframe tbody tr th {\n",
              "        vertical-align: top;\n",
              "    }\n",
              "\n",
              "    .dataframe thead th {\n",
              "        text-align: right;\n",
              "    }\n",
              "</style>\n",
              "<table border=\"1\" class=\"dataframe\">\n",
              "  <thead>\n",
              "    <tr style=\"text-align: right;\">\n",
              "      <th></th>\n",
              "      <th>head</th>\n",
              "      <th>body</th>\n",
              "      <th>stance</th>\n",
              "    </tr>\n",
              "  </thead>\n",
              "  <tbody>\n",
              "    <tr>\n",
              "      <th>0</th>\n",
              "      <td>Hundreds of Palestinians flee floods in Gaza a...</td>\n",
              "      <td>Hundreds of Palestinians were evacuated from t...</td>\n",
              "      <td>0</td>\n",
              "    </tr>\n",
              "    <tr>\n",
              "      <th>1</th>\n",
              "      <td>Christian Bale passes on role of Steve Jobs, a...</td>\n",
              "      <td>30-year-old Moscow resident was hospitalized w...</td>\n",
              "      <td>3</td>\n",
              "    </tr>\n",
              "    <tr>\n",
              "      <th>2</th>\n",
              "      <td>HBO and Apple in Talks for $15/Month Apple TV ...</td>\n",
              "      <td>(Reuters) - A Canadian soldier was shot at the...</td>\n",
              "      <td>3</td>\n",
              "    </tr>\n",
              "    <tr>\n",
              "      <th>3</th>\n",
              "      <td>Spider burrowed through tourist's stomach and ...</td>\n",
              "      <td>Fear not arachnophobes, the story of Bunbury's...</td>\n",
              "      <td>1</td>\n",
              "    </tr>\n",
              "    <tr>\n",
              "      <th>4</th>\n",
              "      <td>Accused Boston Marathon Bomber Severely Injure...</td>\n",
              "      <td>A British fighter who travelled to Iraq to sto...</td>\n",
              "      <td>3</td>\n",
              "    </tr>\n",
              "  </tbody>\n",
              "</table>\n",
              "</div>"
            ],
            "text/plain": [
              "                                                head  ... stance\n",
              "0  Hundreds of Palestinians flee floods in Gaza a...  ...      0\n",
              "1  Christian Bale passes on role of Steve Jobs, a...  ...      3\n",
              "2  HBO and Apple in Talks for $15/Month Apple TV ...  ...      3\n",
              "3  Spider burrowed through tourist's stomach and ...  ...      1\n",
              "4  Accused Boston Marathon Bomber Severely Injure...  ...      3\n",
              "\n",
              "[5 rows x 3 columns]"
            ]
          },
          "metadata": {
            "tags": []
          },
          "execution_count": 25
        }
      ]
    },
    {
      "cell_type": "code",
      "metadata": {
        "id": "kKEoXN_S6-9V",
        "colab_type": "code",
        "colab": {}
      },
      "source": [
        "# validation data dataframe\n",
        "val_df =pd.DataFrame(columns = ['head', 'body', 'stance'])\n",
        "val_h = []\n",
        "val_b = []\n",
        "val_s = []\n",
        "# loop over validation set\n",
        "for i in range(len(val_stances)):\n",
        "  val_h.append(val_stances[i]['Headline'])\n",
        "  val_b.append(train.articles[val_stances[i]['Body ID']])\n",
        "  val_s.append(LABELS.index(val_stances[i]['Stance']))\n",
        "# add data to validation dataframe\n",
        "val_df['head'] = val_h\n",
        "val_df['body'] = val_b\n",
        "val_df['stance'] = val_s"
      ],
      "execution_count": 26,
      "outputs": []
    },
    {
      "cell_type": "code",
      "metadata": {
        "id": "5t8L1KxD_DX_",
        "colab_type": "code",
        "colab": {
          "base_uri": "https://localhost:8080/",
          "height": 195
        },
        "outputId": "5212d3ff-96e0-470c-9c04-31e3d80d0cf4"
      },
      "source": [
        "val_df.head()"
      ],
      "execution_count": 27,
      "outputs": [
        {
          "output_type": "execute_result",
          "data": {
            "text/html": [
              "<div>\n",
              "<style scoped>\n",
              "    .dataframe tbody tr th:only-of-type {\n",
              "        vertical-align: middle;\n",
              "    }\n",
              "\n",
              "    .dataframe tbody tr th {\n",
              "        vertical-align: top;\n",
              "    }\n",
              "\n",
              "    .dataframe thead th {\n",
              "        text-align: right;\n",
              "    }\n",
              "</style>\n",
              "<table border=\"1\" class=\"dataframe\">\n",
              "  <thead>\n",
              "    <tr style=\"text-align: right;\">\n",
              "      <th></th>\n",
              "      <th>head</th>\n",
              "      <th>body</th>\n",
              "      <th>stance</th>\n",
              "    </tr>\n",
              "  </thead>\n",
              "  <tbody>\n",
              "    <tr>\n",
              "      <th>0</th>\n",
              "      <td>Police find mass graves with at least '15 bodi...</td>\n",
              "      <td>Danny Boyle is directing the untitled film\\n\\n...</td>\n",
              "      <td>3</td>\n",
              "    </tr>\n",
              "    <tr>\n",
              "      <th>1</th>\n",
              "      <td>'Nasa Confirms Earth Will Experience 6 Days of...</td>\n",
              "      <td>Thousands of people have been duped by a fake ...</td>\n",
              "      <td>0</td>\n",
              "    </tr>\n",
              "    <tr>\n",
              "      <th>2</th>\n",
              "      <td>Identity of ISIS terrorist known as 'Jihadi Jo...</td>\n",
              "      <td>Adding to Apple's iOS 8 launch troubles, a rep...</td>\n",
              "      <td>3</td>\n",
              "    </tr>\n",
              "    <tr>\n",
              "      <th>3</th>\n",
              "      <td>N. Korea’s Kim has leg injury but in control</td>\n",
              "      <td>You want a gold Apple Watch, you say? Then it'...</td>\n",
              "      <td>3</td>\n",
              "    </tr>\n",
              "    <tr>\n",
              "      <th>4</th>\n",
              "      <td>NET Extra: Back-from-the-dead Catholic priest ...</td>\n",
              "      <td>A 71 years old cleric Father John Micheal O’ne...</td>\n",
              "      <td>0</td>\n",
              "    </tr>\n",
              "  </tbody>\n",
              "</table>\n",
              "</div>"
            ],
            "text/plain": [
              "                                                head  ... stance\n",
              "0  Police find mass graves with at least '15 bodi...  ...      3\n",
              "1  'Nasa Confirms Earth Will Experience 6 Days of...  ...      0\n",
              "2  Identity of ISIS terrorist known as 'Jihadi Jo...  ...      3\n",
              "3       N. Korea’s Kim has leg injury but in control  ...      3\n",
              "4  NET Extra: Back-from-the-dead Catholic priest ...  ...      0\n",
              "\n",
              "[5 rows x 3 columns]"
            ]
          },
          "metadata": {
            "tags": []
          },
          "execution_count": 27
        }
      ]
    },
    {
      "cell_type": "code",
      "metadata": {
        "id": "2HN0QeQHAbpj",
        "colab_type": "code",
        "colab": {
          "base_uri": "https://localhost:8080/",
          "height": 34
        },
        "outputId": "1178e18e-a189-4ca1-833e-766580a2484d"
      },
      "source": [
        "clean_head_train, clean_body_train = data_preprocessing(train_h, train_b)"
      ],
      "execution_count": 28,
      "outputs": [
        {
          "output_type": "stream",
          "text": [
            "40350it [02:01, 333.26it/s]\n"
          ],
          "name": "stderr"
        }
      ]
    },
    {
      "cell_type": "code",
      "metadata": {
        "id": "oM3kU3wgAkl2",
        "colab_type": "code",
        "colab": {
          "base_uri": "https://localhost:8080/",
          "height": 34
        },
        "outputId": "b13fd7cd-f85a-4b3b-a403-b717895137e1"
      },
      "source": [
        "clean_head_val, clean_body_val = data_preprocessing(val_h, val_b)"
      ],
      "execution_count": 29,
      "outputs": [
        {
          "output_type": "stream",
          "text": [
            "9622it [00:28, 337.74it/s]\n"
          ],
          "name": "stderr"
        }
      ]
    },
    {
      "cell_type": "code",
      "metadata": {
        "id": "mhqW1I9QryL6",
        "colab_type": "code",
        "colab": {
          "base_uri": "https://localhost:8080/",
          "height": 34
        },
        "outputId": "a8d8e67a-177d-485a-d506-85ac574fafba"
      },
      "source": [
        "# datapreprocessing on head & body test\n",
        "clean_head_test, clean_body_test = data_preprocessing(h_test,b_test)"
      ],
      "execution_count": 30,
      "outputs": [
        {
          "output_type": "stream",
          "text": [
            "25413it [01:11, 357.38it/s]\n"
          ],
          "name": "stderr"
        }
      ]
    },
    {
      "cell_type": "code",
      "metadata": {
        "id": "NjahzUpyBVr0",
        "colab_type": "code",
        "colab": {}
      },
      "source": [
        "# adding columns of cleaned text in train & validation dataframe\n",
        "train_df['clean_head'] = clean_head_train\n",
        "train_df['clean_body'] = clean_body_train\n",
        "val_df['clean_head']= clean_head_val\n",
        "val_df['clean_body'] = clean_body_val"
      ],
      "execution_count": 31,
      "outputs": []
    },
    {
      "cell_type": "code",
      "metadata": {
        "id": "8z2dGJCAI7va",
        "colab_type": "code",
        "colab": {
          "base_uri": "https://localhost:8080/",
          "height": 195
        },
        "outputId": "82409dcd-4c3d-4ad5-d9dc-a3afc1bcf004"
      },
      "source": [
        "# test dataframe with cleaned headline and article body\n",
        "test_df = pd.DataFrame(columns = ['head','body', 'stance'])\n",
        "test_df['head'] = clean_head_test\n",
        "test_df['body'] =  clean_body_test\n",
        "test_df['stance'] = test_label\n",
        "test_df.head()"
      ],
      "execution_count": 32,
      "outputs": [
        {
          "output_type": "execute_result",
          "data": {
            "text/html": [
              "<div>\n",
              "<style scoped>\n",
              "    .dataframe tbody tr th:only-of-type {\n",
              "        vertical-align: middle;\n",
              "    }\n",
              "\n",
              "    .dataframe tbody tr th {\n",
              "        vertical-align: top;\n",
              "    }\n",
              "\n",
              "    .dataframe thead th {\n",
              "        text-align: right;\n",
              "    }\n",
              "</style>\n",
              "<table border=\"1\" class=\"dataframe\">\n",
              "  <thead>\n",
              "    <tr style=\"text-align: right;\">\n",
              "      <th></th>\n",
              "      <th>head</th>\n",
              "      <th>body</th>\n",
              "      <th>stance</th>\n",
              "    </tr>\n",
              "  </thead>\n",
              "  <tbody>\n",
              "    <tr>\n",
              "      <th>0</th>\n",
              "      <td>ferguson riot pregnant woman loses eye cop bea...</td>\n",
              "      <td>respected senior french police officer investi...</td>\n",
              "      <td>3</td>\n",
              "    </tr>\n",
              "    <tr>\n",
              "      <th>1</th>\n",
              "      <td>crazy conservative sure gitmo detainee killed ...</td>\n",
              "      <td>dave morin s social networking company path re...</td>\n",
              "      <td>3</td>\n",
              "    </tr>\n",
              "    <tr>\n",
              "      <th>2</th>\n",
              "      <td>russian guy say justin bieber ringtone saved b...</td>\n",
              "      <td>bereaved afghan mother took revenge taliban wa...</td>\n",
              "      <td>3</td>\n",
              "    </tr>\n",
              "    <tr>\n",
              "      <th>3</th>\n",
              "      <td>zombie cat buried kitty believed dead meow life</td>\n",
              "      <td>hewlett packard officially splitting following...</td>\n",
              "      <td>3</td>\n",
              "    </tr>\n",
              "    <tr>\n",
              "      <th>4</th>\n",
              "      <td>argentina s president adopts boy end werewolf ...</td>\n",
              "      <td>airline passenger headed dallas wa removed pla...</td>\n",
              "      <td>3</td>\n",
              "    </tr>\n",
              "  </tbody>\n",
              "</table>\n",
              "</div>"
            ],
            "text/plain": [
              "                                                head  ... stance\n",
              "0  ferguson riot pregnant woman loses eye cop bea...  ...      3\n",
              "1  crazy conservative sure gitmo detainee killed ...  ...      3\n",
              "2  russian guy say justin bieber ringtone saved b...  ...      3\n",
              "3    zombie cat buried kitty believed dead meow life  ...      3\n",
              "4  argentina s president adopts boy end werewolf ...  ...      3\n",
              "\n",
              "[5 rows x 3 columns]"
            ]
          },
          "metadata": {
            "tags": []
          },
          "execution_count": 32
        }
      ]
    },
    {
      "cell_type": "code",
      "metadata": {
        "colab_type": "code",
        "id": "HwQwO3Fe8VEp",
        "colab": {}
      },
      "source": [
        "# texts to sequences for train, validation & test data\n",
        "X_train_head_seq = train_df['clean_head'].apply(lambda x: texts_to_sequences([x], word_index))\n",
        "X_train_body_seq = train_df['clean_body'].apply(lambda x: texts_to_sequences([x], word_index))\n",
        "X_val_head_seq = val_df['clean_head'].apply(lambda x: texts_to_sequences([x], word_index))\n",
        "X_val_body_seq = val_df['clean_body'].apply(lambda x: texts_to_sequences([x], word_index))\n",
        "X_test_head_seq = test_df['head'].apply(lambda x: texts_to_sequences([x], word_index))\n",
        "X_test_body_seq = test_df['body'].apply(lambda x: texts_to_sequences([x], word_index))"
      ],
      "execution_count": 33,
      "outputs": []
    },
    {
      "cell_type": "code",
      "metadata": {
        "colab_type": "code",
        "id": "axDD9BEY8VFs",
        "colab": {}
      },
      "source": [
        "# padding the headline and body text to make all of them of equal length\n",
        "max_head_len = 20\n",
        "max_body_len = 100\n",
        "X_train_head = pad_sequences(X_train_head_seq,maxlen = max_head_len,padding = 'post', truncating= 'post')\n",
        "X_train_body = pad_sequences(X_train_body_seq,maxlen = max_body_len,padding = 'post', truncating= 'post')\n",
        "X_test_head =pad_sequences(X_test_head_seq,maxlen = max_head_len,padding = 'post', truncating = 'post')\n",
        "X_test_body = pad_sequences(X_test_body_seq,maxlen = max_body_len,padding = 'post', truncating='post')\n",
        "X_val_head = pad_sequences(X_val_head_seq,maxlen = max_head_len,padding = 'post', truncating= 'post')\n",
        "X_val_body = pad_sequences(X_val_body_seq,maxlen = max_body_len,padding = 'post', truncating= 'post')"
      ],
      "execution_count": 34,
      "outputs": []
    },
    {
      "cell_type": "code",
      "metadata": {
        "colab_type": "code",
        "id": "8LBsgE6y8VF3",
        "colab": {}
      },
      "source": [
        "# getting the labels in for training the model\n",
        "y_train = np.ravel(train_df['stance'])\n",
        "y_val = np.ravel(val_df['stance'])\n",
        "y_test = np.ravel(test_df['stance'])"
      ],
      "execution_count": 35,
      "outputs": []
    },
    {
      "cell_type": "code",
      "metadata": {
        "id": "kPDqQSn8GWU6",
        "colab_type": "code",
        "colab": {
          "base_uri": "https://localhost:8080/",
          "height": 642
        },
        "outputId": "cda19a4a-3ef4-4366-a2ce-4490e9e3ffc0"
      },
      "source": [
        "'''BI-CONDITIONAL ENCODING LSTM'''\n",
        "# input layer for head \n",
        "head_input = Input(shape=(max_head_len,), dtype='int32', name='head_input')\n",
        "# input layer for body\n",
        "body_input = Input(shape=(max_body_len,), dtype='int32', name='body_input')\n",
        "# shared embedding layer for head & body\n",
        "shared_embed = Embedding(len(word_index) + 1,dims,weights=[embedding_matrix],trainable=False)\n",
        "# head embedding layer\n",
        "head_embed = shared_embed(head_input)\n",
        "# body embedding layer\n",
        "body_embed = shared_embed(body_input)\n",
        "# head lstm layer and return states to give the states to the body LSTM layer\n",
        "head_lstm,state_h,state_c, x,y = Bidirectional(LSTM(100,dropout=0.2, recurrent_dropout=0.2, name='head_lstm',return_state=True))(head_embed)\n",
        "# storing encoded states\n",
        "encoded_states = [state_h,state_c, x,y]\n",
        "# body lstm layer having same number of units as head and initialise with encoded states\n",
        "body_lstm = Bidirectional(LSTM(100,dropout=0.2, recurrent_dropout=0.2, name='body_lstm'))(body_embed,initial_state=encoded_states)\n",
        "# dense layer\n",
        "dense = Dense(100,activation='relu', kernel_regularizer=l2(0.01))(body_lstm)\n",
        "dense = Dropout(0.2)(dense)\n",
        "# output layer\n",
        "dense = Dense(4,activation='softmax', kernel_regularizer=l2(0.01))(dense)\n",
        "# build model\n",
        "model = Model(inputs=[head_input,body_input], outputs=[dense])\n",
        "# compile model\n",
        "model.compile(optimizer='adam', loss='sparse_categorical_crossentropy',metrics=['acc'])\n",
        "print(model.summary())"
      ],
      "execution_count": 37,
      "outputs": [
        {
          "output_type": "stream",
          "text": [
            "WARNING:tensorflow:Layer head_lstm will not use cuDNN kernel since it doesn't meet the cuDNN kernel criteria. It will use generic GPU kernel as fallback when running on GPU\n",
            "WARNING:tensorflow:Layer head_lstm will not use cuDNN kernel since it doesn't meet the cuDNN kernel criteria. It will use generic GPU kernel as fallback when running on GPU\n",
            "WARNING:tensorflow:Layer head_lstm will not use cuDNN kernel since it doesn't meet the cuDNN kernel criteria. It will use generic GPU kernel as fallback when running on GPU\n",
            "WARNING:tensorflow:Layer body_lstm will not use cuDNN kernel since it doesn't meet the cuDNN kernel criteria. It will use generic GPU kernel as fallback when running on GPU\n",
            "WARNING:tensorflow:Layer body_lstm will not use cuDNN kernel since it doesn't meet the cuDNN kernel criteria. It will use generic GPU kernel as fallback when running on GPU\n",
            "WARNING:tensorflow:Layer body_lstm will not use cuDNN kernel since it doesn't meet the cuDNN kernel criteria. It will use generic GPU kernel as fallback when running on GPU\n",
            "Model: \"functional_1\"\n",
            "__________________________________________________________________________________________________\n",
            "Layer (type)                    Output Shape         Param #     Connected to                     \n",
            "==================================================================================================\n",
            "body_input (InputLayer)         [(None, 100)]        0                                            \n",
            "__________________________________________________________________________________________________\n",
            "head_input (InputLayer)         [(None, 20)]         0                                            \n",
            "__________________________________________________________________________________________________\n",
            "embedding (Embedding)           multiple             40000100    head_input[0][0]                 \n",
            "                                                                 body_input[0][0]                 \n",
            "__________________________________________________________________________________________________\n",
            "bidirectional (Bidirectional)   [(None, 200), (None, 160800      embedding[0][0]                  \n",
            "__________________________________________________________________________________________________\n",
            "bidirectional_1 (Bidirectional) (None, 200)          160800      embedding[1][0]                  \n",
            "                                                                 bidirectional[0][1]              \n",
            "                                                                 bidirectional[0][2]              \n",
            "                                                                 bidirectional[0][3]              \n",
            "                                                                 bidirectional[0][4]              \n",
            "__________________________________________________________________________________________________\n",
            "dense (Dense)                   (None, 100)          20100       bidirectional_1[0][0]            \n",
            "__________________________________________________________________________________________________\n",
            "dropout (Dropout)               (None, 100)          0           dense[0][0]                      \n",
            "__________________________________________________________________________________________________\n",
            "dense_1 (Dense)                 (None, 4)            404         dropout[0][0]                    \n",
            "==================================================================================================\n",
            "Total params: 40,342,204\n",
            "Trainable params: 342,104\n",
            "Non-trainable params: 40,000,100\n",
            "__________________________________________________________________________________________________\n",
            "None\n"
          ],
          "name": "stdout"
        }
      ]
    },
    {
      "cell_type": "code",
      "metadata": {
        "id": "Qtlv-lRLC9yx",
        "colab_type": "code",
        "colab": {
          "base_uri": "https://localhost:8080/",
          "height": 1000
        },
        "outputId": "2d046a9c-3e03-44f6-d9d0-0012ec51fcb8"
      },
      "source": [
        "history = model.fit([X_train_head, X_train_body], y_train,batch_size=128,epochs=40, validation_data = ([X_val_head, X_val_body], y_val))"
      ],
      "execution_count": 38,
      "outputs": [
        {
          "output_type": "stream",
          "text": [
            "Epoch 1/40\n",
            "316/316 [==============================] - 265s 839ms/step - loss: 1.0508 - acc: 0.7353 - val_loss: 0.8660 - val_acc: 0.7194\n",
            "Epoch 2/40\n",
            "316/316 [==============================] - 267s 843ms/step - loss: 0.7015 - acc: 0.7588 - val_loss: 0.8721 - val_acc: 0.6915\n",
            "Epoch 3/40\n",
            "316/316 [==============================] - 264s 836ms/step - loss: 0.6511 - acc: 0.7782 - val_loss: 0.9000 - val_acc: 0.6340\n",
            "Epoch 4/40\n",
            "316/316 [==============================] - 263s 831ms/step - loss: 0.6170 - acc: 0.7884 - val_loss: 0.8532 - val_acc: 0.6799\n",
            "Epoch 5/40\n",
            "316/316 [==============================] - 265s 839ms/step - loss: 0.5492 - acc: 0.8109 - val_loss: 0.8293 - val_acc: 0.6712\n",
            "Epoch 6/40\n",
            "316/316 [==============================] - 265s 839ms/step - loss: 0.4821 - acc: 0.8336 - val_loss: 0.7262 - val_acc: 0.7331\n",
            "Epoch 7/40\n",
            "316/316 [==============================] - 265s 839ms/step - loss: 0.4460 - acc: 0.8449 - val_loss: 0.7139 - val_acc: 0.7374\n",
            "Epoch 8/40\n",
            "316/316 [==============================] - 263s 833ms/step - loss: 0.4186 - acc: 0.8553 - val_loss: 0.6931 - val_acc: 0.7431\n",
            "Epoch 9/40\n",
            "316/316 [==============================] - 264s 834ms/step - loss: 0.3969 - acc: 0.8639 - val_loss: 0.6738 - val_acc: 0.7494\n",
            "Epoch 10/40\n",
            "316/316 [==============================] - 266s 840ms/step - loss: 0.3780 - acc: 0.8706 - val_loss: 0.6846 - val_acc: 0.7410\n",
            "Epoch 11/40\n",
            "316/316 [==============================] - 266s 842ms/step - loss: 0.3584 - acc: 0.8802 - val_loss: 0.6590 - val_acc: 0.7566\n",
            "Epoch 12/40\n",
            "316/316 [==============================] - 265s 839ms/step - loss: 0.3423 - acc: 0.8855 - val_loss: 0.6654 - val_acc: 0.7538\n",
            "Epoch 13/40\n",
            "316/316 [==============================] - 264s 837ms/step - loss: 0.3306 - acc: 0.8900 - val_loss: 0.6318 - val_acc: 0.7796\n",
            "Epoch 14/40\n",
            "316/316 [==============================] - 266s 843ms/step - loss: 0.3184 - acc: 0.8942 - val_loss: 0.6215 - val_acc: 0.7767\n",
            "Epoch 15/40\n",
            "316/316 [==============================] - 270s 855ms/step - loss: 0.3151 - acc: 0.8964 - val_loss: 0.6237 - val_acc: 0.7809\n",
            "Epoch 16/40\n",
            "316/316 [==============================] - 271s 857ms/step - loss: 0.3002 - acc: 0.9015 - val_loss: 0.6421 - val_acc: 0.7718\n",
            "Epoch 17/40\n",
            "316/316 [==============================] - 271s 859ms/step - loss: 0.2937 - acc: 0.9053 - val_loss: 0.6124 - val_acc: 0.7900\n",
            "Epoch 18/40\n",
            "316/316 [==============================] - 264s 835ms/step - loss: 0.2900 - acc: 0.9064 - val_loss: 0.6182 - val_acc: 0.7988\n",
            "Epoch 19/40\n",
            "316/316 [==============================] - 261s 827ms/step - loss: 0.2825 - acc: 0.9082 - val_loss: 0.6375 - val_acc: 0.7864\n",
            "Epoch 20/40\n",
            "316/316 [==============================] - 262s 829ms/step - loss: 0.2765 - acc: 0.9102 - val_loss: 0.6072 - val_acc: 0.7970\n",
            "Epoch 21/40\n",
            "316/316 [==============================] - 261s 827ms/step - loss: 0.2665 - acc: 0.9155 - val_loss: 0.6015 - val_acc: 0.8061\n",
            "Epoch 22/40\n",
            "316/316 [==============================] - 275s 871ms/step - loss: 0.2668 - acc: 0.9156 - val_loss: 0.5562 - val_acc: 0.8117\n",
            "Epoch 23/40\n",
            "316/316 [==============================] - 274s 868ms/step - loss: 0.2612 - acc: 0.9164 - val_loss: 0.5819 - val_acc: 0.7995\n",
            "Epoch 24/40\n",
            "316/316 [==============================] - 276s 873ms/step - loss: 0.2571 - acc: 0.9193 - val_loss: 0.6112 - val_acc: 0.8177\n",
            "Epoch 25/40\n",
            "316/316 [==============================] - 279s 883ms/step - loss: 0.2524 - acc: 0.9207 - val_loss: 0.5834 - val_acc: 0.8136\n",
            "Epoch 26/40\n",
            "316/316 [==============================] - 279s 884ms/step - loss: 0.2491 - acc: 0.9226 - val_loss: 0.5846 - val_acc: 0.8092\n",
            "Epoch 27/40\n",
            "316/316 [==============================] - 277s 876ms/step - loss: 0.2525 - acc: 0.9212 - val_loss: 0.5614 - val_acc: 0.8227\n",
            "Epoch 28/40\n",
            "316/316 [==============================] - 278s 881ms/step - loss: 0.2430 - acc: 0.9256 - val_loss: 0.6150 - val_acc: 0.8046\n",
            "Epoch 29/40\n",
            "316/316 [==============================] - 278s 879ms/step - loss: 0.2341 - acc: 0.9286 - val_loss: 0.5793 - val_acc: 0.8118\n",
            "Epoch 30/40\n",
            "316/316 [==============================] - 277s 876ms/step - loss: 0.2302 - acc: 0.9294 - val_loss: 0.6043 - val_acc: 0.8131\n",
            "Epoch 31/40\n",
            "316/316 [==============================] - 275s 871ms/step - loss: 0.2432 - acc: 0.9259 - val_loss: 0.6022 - val_acc: 0.8080\n",
            "Epoch 32/40\n",
            "316/316 [==============================] - 279s 884ms/step - loss: 0.2290 - acc: 0.9315 - val_loss: 0.6134 - val_acc: 0.8049\n",
            "Epoch 33/40\n",
            "316/316 [==============================] - 276s 874ms/step - loss: 0.2241 - acc: 0.9344 - val_loss: 0.5882 - val_acc: 0.8107\n",
            "Epoch 34/40\n",
            "316/316 [==============================] - 274s 866ms/step - loss: 0.2216 - acc: 0.9359 - val_loss: 0.6008 - val_acc: 0.8081\n",
            "Epoch 35/40\n",
            "316/316 [==============================] - 275s 869ms/step - loss: 0.2184 - acc: 0.9354 - val_loss: 0.6017 - val_acc: 0.8103\n",
            "Epoch 36/40\n",
            "316/316 [==============================] - 277s 875ms/step - loss: 0.2200 - acc: 0.9355 - val_loss: 0.5513 - val_acc: 0.8185\n",
            "Epoch 37/40\n",
            "316/316 [==============================] - 275s 871ms/step - loss: 0.2162 - acc: 0.9369 - val_loss: 0.6074 - val_acc: 0.8191\n",
            "Epoch 38/40\n",
            "316/316 [==============================] - 272s 862ms/step - loss: 0.2145 - acc: 0.9362 - val_loss: 0.5993 - val_acc: 0.8131\n",
            "Epoch 39/40\n",
            "316/316 [==============================] - 275s 871ms/step - loss: 0.2124 - acc: 0.9381 - val_loss: 0.5943 - val_acc: 0.8229\n",
            "Epoch 40/40\n",
            "316/316 [==============================] - 276s 872ms/step - loss: 0.2081 - acc: 0.9405 - val_loss: 0.5706 - val_acc: 0.8208\n"
          ],
          "name": "stdout"
        }
      ]
    },
    {
      "cell_type": "code",
      "metadata": {
        "id": "O0F-gJ0gmwaD",
        "colab_type": "code",
        "colab": {}
      },
      "source": [
        ""
      ],
      "execution_count": 38,
      "outputs": []
    },
    {
      "cell_type": "code",
      "metadata": {
        "id": "QPd4bKOjLfp8",
        "colab_type": "code",
        "colab": {
          "base_uri": "https://localhost:8080/",
          "height": 154
        },
        "outputId": "25a79d49-dab0-4041-c58d-be1a269bce01"
      },
      "source": [
        "model.save(\"Bidirection_Encoding_final\")"
      ],
      "execution_count": 39,
      "outputs": [
        {
          "output_type": "stream",
          "text": [
            "WARNING:tensorflow:From /usr/local/lib/python3.6/dist-packages/tensorflow/python/training/tracking/tracking.py:111: Model.state_updates (from tensorflow.python.keras.engine.training) is deprecated and will be removed in a future version.\n",
            "Instructions for updating:\n",
            "This property should not be used in TensorFlow 2.0, as updates are applied automatically.\n",
            "WARNING:tensorflow:From /usr/local/lib/python3.6/dist-packages/tensorflow/python/training/tracking/tracking.py:111: Layer.updates (from tensorflow.python.keras.engine.base_layer) is deprecated and will be removed in a future version.\n",
            "Instructions for updating:\n",
            "This property should not be used in TensorFlow 2.0, as updates are applied automatically.\n",
            "INFO:tensorflow:Assets written to: Bidirection_Encoding_final/assets\n"
          ],
          "name": "stdout"
        }
      ]
    },
    {
      "cell_type": "code",
      "metadata": {
        "id": "c2G6nrsRmx0Q",
        "colab_type": "code",
        "colab": {
          "base_uri": "https://localhost:8080/",
          "height": 573
        },
        "outputId": "a2db5f4d-317a-403d-ce9a-d0c8ff3dde20"
      },
      "source": [
        "import matplotlib.pyplot as plt\n",
        "\n",
        "plt.plot(history.history['acc'])\n",
        "plt.plot(history.history['val_acc'])\n",
        "plt.title('model accuracy')\n",
        "plt.ylabel('accuracy')\n",
        "plt.xlabel('epoch')\n",
        "plt.legend(['train', 'val'], loc='upper left')\n",
        "plt.show()\n",
        "# summarize history for loss\n",
        "plt.plot(history.history['loss'])\n",
        "plt.plot(history.history['val_loss'])\n",
        "plt.title('model loss')\n",
        "plt.ylabel('loss')\n",
        "plt.xlabel('epoch')\n",
        "plt.legend(['train', 'val'], loc='upper left')\n",
        "plt.show()"
      ],
      "execution_count": 43,
      "outputs": [
        {
          "output_type": "display_data",
          "data": {
            "image/png": "[encoded data removed]",
            "text/plain": [
              "<Figure size 432x288 with 1 Axes>"
            ]
          },
          "metadata": {
            "tags": [],
            "needs_background": "light"
          }
        },
        {
          "output_type": "display_data",
          "data": {
            "image/png": "[encoded data removed]",
            "text/plain": [
              "<Figure size 432x288 with 1 Axes>"
            ]
          },
          "metadata": {
            "tags": [],
            "needs_background": "light"
          }
        }
      ]
    },
    {
      "cell_type": "code",
      "metadata": {
        "id": "zfcXuTe9fGW5",
        "colab_type": "code",
        "colab": {}
      },
      "source": [
        "# predicting for train \n",
        "y_pred_train = model.predict([X_train_head,X_train_body])\n",
        "y_pred_train = np.argmax(y_pred_train,axis=1)\n",
        "#Predicting on test\n",
        "y_pred_test = model.predict([X_test_head,X_test_body])\n",
        "y_pred_test = np.argmax(y_pred_test,axis=1)\n",
        "#Predicting on val\n",
        "y_pred_val = model.predict([X_val_head,X_val_body])\n",
        "y_pred_val = np.argmax(y_pred_val,axis=1)"
      ],
      "execution_count": 60,
      "outputs": []
    },
    {
      "cell_type": "code",
      "metadata": {
        "id": "ahDBr5w1rDo6",
        "colab_type": "code",
        "colab": {
          "base_uri": "https://localhost:8080/",
          "height": 50
        },
        "outputId": "442dbbc1-f521-433d-cd0d-5c1f1c54b15a"
      },
      "source": [
        "model.evaluate([X_test_head,X_test_body], y_test)"
      ],
      "execution_count": 61,
      "outputs": [
        {
          "output_type": "stream",
          "text": [
            "795/795 [==============================] - 72s 90ms/step - loss: 0.9763 - acc: 0.7087\n"
          ],
          "name": "stdout"
        },
        {
          "output_type": "execute_result",
          "data": {
            "text/plain": [
              "[0.9762560725212097, 0.7087317705154419]"
            ]
          },
          "metadata": {
            "tags": []
          },
          "execution_count": 61
        }
      ]
    },
    {
      "cell_type": "code",
      "metadata": {
        "id": "wczis4leiZXt",
        "colab_type": "code",
        "colab": {}
      },
      "source": [
        "# Helper function\n",
        "# Print markdown style\n",
        "def printmd(string):\n",
        "    display(Markdown(string))\n",
        "    \n",
        "# cm is the confusion matrix, names are the names of the classes.\n",
        "def plot_confusion_matrix(cm, names, title='Confusion matrix', cmap=plt.cm.Blues):\n",
        "    plt.imshow(cm, interpolation='nearest', cmap=cmap)\n",
        "    plt.title(title)\n",
        "    plt.colorbar()\n",
        "    tick_marks = np.arange(len(names))\n",
        "    plt.xticks(tick_marks, names, rotation=90)\n",
        "    plt.yticks(tick_marks, names)\n",
        "    plt.tight_layout()\n",
        "    plt.ylabel('True label')\n",
        "    plt.xlabel('Predicted label')"
      ],
      "execution_count": 64,
      "outputs": []
    },
    {
      "cell_type": "code",
      "metadata": {
        "id": "OBuP_S0DebMF",
        "colab_type": "code",
        "colab": {
          "base_uri": "https://localhost:8080/",
          "height": 701
        },
        "outputId": "ab0a8405-273c-4264-affa-b92d83b910f9"
      },
      "source": [
        "import sklearn.metrics as metrics\n",
        "labels = [0,1,2,3]\n",
        "# y_pred = model.predict([X_test_head,X_test_body])\n",
        "f1 = metrics.f1_score(y_train, y_pred_train, average= \"weighted\")\n",
        "accuracy = metrics.accuracy_score(y_train, y_pred_train)\n",
        "cm = metrics.confusion_matrix(y_train, y_pred_train)\n",
        "print(\"----------------Train Report---------------\")\n",
        "print(\"F1 score: {}\".format(f1))\n",
        "print(\"Accuracy score: {}\".format(accuracy))\n",
        "print(\"Confusion matrix: \\n\", cm)\n",
        "print('Plotting confusion matrix')\n",
        "plt.figure()\n",
        "plot_confusion_matrix(cm, labels)\n",
        "plt.show()\n",
        "print(metrics.classification_report(y_train, y_pred_train))"
      ],
      "execution_count": 67,
      "outputs": [
        {
          "output_type": "stream",
          "text": [
            "----------------Train Report---------------\n",
            "F1 score: 0.9434928167928232\n",
            "Accuracy score: 0.9496406443618339\n",
            "Confusion matrix: \n",
            " [[ 2633     0   158   125]\n",
            " [  575     0    87    16]\n",
            " [  538     0  6349   222]\n",
            " [  108     0   203 29336]]\n",
            "Plotting confusion matrix\n"
          ],
          "name": "stdout"
        },
        {
          "output_type": "display_data",
          "data": {
            "image/png": "[encoded data removed]",
            "text/plain": [
              "<Figure size 432x288 with 2 Axes>"
            ]
          },
          "metadata": {
            "tags": [],
            "needs_background": "light"
          }
        },
        {
          "output_type": "stream",
          "text": [
            "              precision    recall  f1-score   support\n",
            "\n",
            "           0       0.68      0.90      0.78      2916\n",
            "           1       0.00      0.00      0.00       678\n",
            "           2       0.93      0.89      0.91      7109\n",
            "           3       0.99      0.99      0.99     29647\n",
            "\n",
            "    accuracy                           0.95     40350\n",
            "   macro avg       0.65      0.70      0.67     40350\n",
            "weighted avg       0.94      0.95      0.94     40350\n",
            "\n"
          ],
          "name": "stdout"
        },
        {
          "output_type": "stream",
          "text": [
            "/usr/local/lib/python3.6/dist-packages/sklearn/metrics/_classification.py:1272: UndefinedMetricWarning: Precision and F-score are ill-defined and being set to 0.0 in labels with no predicted samples. Use `zero_division` parameter to control this behavior.\n",
            "  _warn_prf(average, modifier, msg_start, len(result))\n"
          ],
          "name": "stderr"
        }
      ]
    },
    {
      "cell_type": "code",
      "metadata": {
        "id": "fO-eFIk9pNnT",
        "colab_type": "code",
        "colab": {
          "base_uri": "https://localhost:8080/",
          "height": 701
        },
        "outputId": "2877701c-fd80-45d8-b535-19984daa5d50"
      },
      "source": [
        "\n",
        "import sklearn.metrics as metrics\n",
        "# y_pred = model.predict([X_test_head,X_test_body])\n",
        "labels = [0,1,2,3]\n",
        "f1 = metrics.f1_score(y_test, y_pred_test, average= \"weighted\")\n",
        "accuracy = metrics.accuracy_score(y_test, y_pred_test)\n",
        "cm = metrics.confusion_matrix(y_test, y_pred_test)\n",
        "print(\"----------------Test Report---------------\")\n",
        "print(\"F1 score: {}\".format(f1))\n",
        "print(\"Accuracy score: {}\".format(accuracy))\n",
        "print(\"Confusion matrix: \\n\", cm)\n",
        "print('Plotting confusion matrix')\n",
        "plt.figure()\n",
        "plot_confusion_matrix(cm, labels)\n",
        "plt.show()\n",
        "print(metrics.classification_report(y_test, y_pred_test))\n"
      ],
      "execution_count": 68,
      "outputs": [
        {
          "output_type": "stream",
          "text": [
            "----------------Test Report---------------\n",
            "F1 score: 0.7043177376862257\n",
            "Accuracy score: 0.7087317514657853\n",
            "Confusion matrix: \n",
            " [[  792     0   305   806]\n",
            " [  237     0    87   373]\n",
            " [  895     0  1620  1949]\n",
            " [ 1646     0  1104 15599]]\n",
            "Plotting confusion matrix\n"
          ],
          "name": "stdout"
        },
        {
          "output_type": "display_data",
          "data": {
            "image/png": "[encoded data removed]",
            "text/plain": [
              "<Figure size 432x288 with 2 Axes>"
            ]
          },
          "metadata": {
            "tags": [],
            "needs_background": "light"
          }
        },
        {
          "output_type": "stream",
          "text": [
            "              precision    recall  f1-score   support\n",
            "\n",
            "           0       0.22      0.42      0.29      1903\n",
            "           1       0.00      0.00      0.00       697\n",
            "           2       0.52      0.36      0.43      4464\n",
            "           3       0.83      0.85      0.84     18349\n",
            "\n",
            "    accuracy                           0.71     25413\n",
            "   macro avg       0.39      0.41      0.39     25413\n",
            "weighted avg       0.71      0.71      0.70     25413\n",
            "\n"
          ],
          "name": "stdout"
        },
        {
          "output_type": "stream",
          "text": [
            "/usr/local/lib/python3.6/dist-packages/sklearn/metrics/_classification.py:1272: UndefinedMetricWarning: Precision and F-score are ill-defined and being set to 0.0 in labels with no predicted samples. Use `zero_division` parameter to control this behavior.\n",
            "  _warn_prf(average, modifier, msg_start, len(result))\n"
          ],
          "name": "stderr"
        }
      ]
    },
    {
      "cell_type": "code",
      "metadata": {
        "id": "Pp_NSjWvemYQ",
        "colab_type": "code",
        "colab": {
          "base_uri": "https://localhost:8080/",
          "height": 701
        },
        "outputId": "6d8b466e-53ce-4242-bc72-40059a42206e"
      },
      "source": [
        "import sklearn.metrics as metrics\n",
        "# y_pred = model.predict([X_test_head,X_test_body])\n",
        "labels = [0,1,2,3]\n",
        "f1 = metrics.f1_score(y_val, y_pred_val, average= \"weighted\")\n",
        "accuracy = metrics.accuracy_score(y_val, y_pred_val)\n",
        "cm = metrics.confusion_matrix(y_val, y_pred_val)\n",
        "print(\"----------------Val Report---------------\")\n",
        "print(\"F1 score: {}\".format(f1))\n",
        "print(\"Accuracy score: {}\".format(accuracy))\n",
        "print(\"Confusion matrix: \\n\", cm)\n",
        "print('Plotting confusion matrix')\n",
        "plt.figure()\n",
        "plot_confusion_matrix(cm, labels)\n",
        "plt.show()\n",
        "print(metrics.classification_report(y_val, y_pred_val))"
      ],
      "execution_count": 69,
      "outputs": [
        {
          "output_type": "stream",
          "text": [
            "----------------Val Report---------------\n",
            "F1 score: 0.822698696396579\n",
            "Accuracy score: 0.8208272708376637\n",
            "Confusion matrix: \n",
            " [[ 424    0  240   98]\n",
            " [  80    0   47   35]\n",
            " [ 257    0 1250  293]\n",
            " [ 375    0  299 6224]]\n",
            "Plotting confusion matrix\n"
          ],
          "name": "stdout"
        },
        {
          "output_type": "display_data",
          "data": {
            "image/png": "[encoded data removed]",
            "text/plain": [
              "<Figure size 432x288 with 2 Axes>"
            ]
          },
          "metadata": {
            "tags": [],
            "needs_background": "light"
          }
        },
        {
          "output_type": "stream",
          "text": [
            "              precision    recall  f1-score   support\n",
            "\n",
            "           0       0.37      0.56      0.45       762\n",
            "           1       0.00      0.00      0.00       162\n",
            "           2       0.68      0.69      0.69      1800\n",
            "           3       0.94      0.90      0.92      6898\n",
            "\n",
            "    accuracy                           0.82      9622\n",
            "   macro avg       0.50      0.54      0.51      9622\n",
            "weighted avg       0.83      0.82      0.82      9622\n",
            "\n"
          ],
          "name": "stdout"
        },
        {
          "output_type": "stream",
          "text": [
            "/usr/local/lib/python3.6/dist-packages/sklearn/metrics/_classification.py:1272: UndefinedMetricWarning: Precision and F-score are ill-defined and being set to 0.0 in labels with no predicted samples. Use `zero_division` parameter to control this behavior.\n",
            "  _warn_prf(average, modifier, msg_start, len(result))\n"
          ],
          "name": "stderr"
        }
      ]
    },
    {
      "cell_type": "code",
      "metadata": {
        "id": "LPMmb1sc0pdF",
        "colab_type": "code",
        "colab": {}
      },
      "source": [
        "class unlab_DataSet():\n",
        "    def __init__(self, name, path=\"FakeNewsChallenge/fnc-1\"):\n",
        "        self.path = path\n",
        "\n",
        "        print(\"Reading test dataset\")\n",
        "        bodies = name+\"_bodies.csv\"\n",
        "        stances = name+\"_stances_unlabeled.csv\"\n",
        "        print(stances)\n",
        "\n",
        "        self.stances = self.read(stances)\n",
        "        articles = self.read(bodies)\n",
        "        self.articles = dict()\n",
        "\n",
        "        #make the body ID an integer value\n",
        "        for s in self.stances:\n",
        "            s['Body ID'] = int(s['Body ID'])\n",
        "\n",
        "        #copy all bodies into a dictionary\n",
        "        for article in articles:\n",
        "            self.articles[int(article['Body ID'])] = article['articleBody']\n",
        "\n",
        "        print(\"Total stances: \" + str(len(self.stances)))\n",
        "        print(\"Total bodies: \" + str(len(self.articles)))\n",
        "        \n",
        "    def read(self,filename):\n",
        "        rows = []\n",
        "        with open(self.path + \"/\" + filename, \"r\", encoding='utf-8') as table:\n",
        "            r = DictReader(table)\n",
        "\n",
        "            for line in r:\n",
        "                rows.append(line)\n",
        "        return rows"
      ],
      "execution_count": null,
      "outputs": []
    },
    {
      "cell_type": "code",
      "metadata": {
        "id": "Sgkv3x0w0s9j",
        "colab_type": "code",
        "colab": {}
      },
      "source": [
        "# load file \n",
        "competition_test = unlab_DataSet(\"competition_test\")\n",
        "unlab_h = []\n",
        "unlab_b = []\n",
        "for s in competition_test.stances:\n",
        "  unlab_h.append(s['Headline'])\n",
        "  unlab_b.append(competition_test.articles[s['Body ID']])\n",
        "unlab_df = pd.DataFrame(columns= ['head', 'body'])\n",
        "unlab_df['head'] = unlab_h\n",
        "unlab_df['body'] = unlab_b\n",
        "unlab_df.head()"
      ],
      "execution_count": null,
      "outputs": []
    },
    {
      "cell_type": "code",
      "metadata": {
        "id": "ZZ58yW8a8blr",
        "colab_type": "code",
        "colab": {}
      },
      "source": [
        "clean_head_unlab, clean_body_unlab = data_preprocessing(unlab_h, unlab_b)"
      ],
      "execution_count": null,
      "outputs": []
    },
    {
      "cell_type": "code",
      "metadata": {
        "id": "uX9YMGpK8byY",
        "colab_type": "code",
        "colab": {}
      },
      "source": [
        "unlab_df['clean_head'] = clean_head_unlab\n",
        "unlab_df['clean_body'] = clean_body_unlab"
      ],
      "execution_count": null,
      "outputs": []
    },
    {
      "cell_type": "code",
      "metadata": {
        "id": "MDkuWu2o9K7v",
        "colab_type": "code",
        "colab": {}
      },
      "source": [
        "unlab_df.head()"
      ],
      "execution_count": null,
      "outputs": []
    },
    {
      "cell_type": "code",
      "metadata": {
        "colab_type": "code",
        "id": "5dN_5K1-9ahM",
        "colab": {}
      },
      "source": [
        "# texts to sequences for train, validation & test data\n",
        "X_unlab_head_seq = unlab_df['clean_head'].apply(lambda x: texts_to_sequences([x], word_index))\n",
        "X_unlab_body_seq = unlab_df['clean_body'].apply(lambda x: texts_to_sequences([x], word_index))"
      ],
      "execution_count": null,
      "outputs": []
    },
    {
      "cell_type": "code",
      "metadata": {
        "colab_type": "code",
        "id": "XdXUfe8B9ahQ",
        "colab": {}
      },
      "source": [
        "# umnlabeled data\n",
        "X_unlab_head = pad_sequences(X_unlab_head_seq,maxlen = max_head_len,padding = 'post', truncating= 'post')\n",
        "X_unlab_body = pad_sequences(X_unlab_body_seq,maxlen = max_body_len,padding = 'post', truncating= 'post')"
      ],
      "execution_count": null,
      "outputs": []
    },
    {
      "cell_type": "code",
      "metadata": {
        "id": "na78odS09t9i",
        "colab_type": "code",
        "colab": {}
      },
      "source": [
        "y_pred_unlab = model.predict([X_unlab_head, X_unlab_body])\n",
        "y_labels = np.argmax(y_pred_unlab, axis = 1)"
      ],
      "execution_count": null,
      "outputs": []
    },
    {
      "cell_type": "code",
      "metadata": {
        "id": "jlVhenQs-B4T",
        "colab_type": "code",
        "colab": {}
      },
      "source": [
        "predicted_stances = []\n",
        "for i in range(len(y_labels)):\n",
        "  predicted_stances.append(LABELS[y_labels[i]])"
      ],
      "execution_count": null,
      "outputs": []
    },
    {
      "cell_type": "code",
      "metadata": {
        "id": "7bzM5yap8qeB",
        "colab_type": "code",
        "colab": {}
      },
      "source": [
        "df = pd.read_csv(\"FakeNewsChallenge/fnc-1/competition_test_stances_unlabeled.csv\")\n",
        "df['Stance'] = predicted_stances"
      ],
      "execution_count": null,
      "outputs": []
    },
    {
      "cell_type": "code",
      "metadata": {
        "id": "bkQmgYJM8q7F",
        "colab_type": "code",
        "colab": {}
      },
      "source": [
        "df.head()"
      ],
      "execution_count": null,
      "outputs": []
    },
    {
      "cell_type": "code",
      "metadata": {
        "id": "hNQvK21l_YHN",
        "colab_type": "code",
        "colab": {}
      },
      "source": [
        "df.to_csv('answer.csv', index=False, encoding='utf-8') # From pandas library"
      ],
      "execution_count": null,
      "outputs": []
    },
    {
      "cell_type": "code",
      "metadata": {
        "id": "9u66UpFZ1naa",
        "colab_type": "code",
        "colab": {}
      },
      "source": [
        ""
      ],
      "execution_count": null,
      "outputs": []
    }
  ]
}