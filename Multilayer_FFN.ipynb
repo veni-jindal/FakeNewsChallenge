{
  "nbformat": 4,
  "nbformat_minor": 0,
  "metadata": {
    "colab": {
      "name": "Baseline changes.ipynb",
      "provenance": [],
      "collapsed_sections": []
    },
    "kernelspec": {
      "name": "python3",
      "display_name": "Python 3"
    }
  },
  "cells": [
    {
      "cell_type": "code",
      "metadata": {
        "id": "mO9HMvwCuJS_",
        "colab_type": "code",
        "colab": {
          "base_uri": "https://localhost:8080/",
          "height": 117
        },
        "outputId": "58b18e2a-a652-47ba-95fb-ba493cfbff14"
      },
      "source": [
        "# cloning the rgithub repository of fnc to get data in colab\n",
        "!git clone https://github.com/veni-jindal/FakeNewsChallenge.git"
      ],
      "execution_count": null,
      "outputs": [
        {
          "output_type": "stream",
          "text": [
            "Cloning into 'FakeNewsChallenge'...\n",
            "remote: Enumerating objects: 18, done.\u001b[K\n",
            "remote: Counting objects: 100% (18/18), done.\u001b[K\n",
            "remote: Compressing objects: 100% (15/15), done.\u001b[K\n",
            "remote: Total 18 (delta 4), reused 16 (delta 2), pack-reused 0\u001b[K\n",
            "Unpacking objects: 100% (18/18), done.\n"
          ],
          "name": "stdout"
        }
      ]
    },
    {
      "cell_type": "code",
      "metadata": {
        "id": "_9J8CLEDukUr",
        "colab_type": "code",
        "colab": {
          "base_uri": "https://localhost:8080/",
          "height": 84
        },
        "outputId": "2a81273b-183d-4cab-e7b3-814ae7d9c7e3"
      },
      "source": [
        "# importing required packages\n",
        "import pandas as pd\n",
        "import numpy as np\n",
        "import os\n",
        "from csv import DictReader\n",
        "import re\n",
        "import nltk\n",
        "from sklearn import feature_extraction\n",
        "nltk.download('wordnet')\n",
        "nltk.download('punkt')\n",
        "_wnl = nltk.WordNetLemmatizer()\n",
        "from tqdm import tqdm"
      ],
      "execution_count": null,
      "outputs": [
        {
          "output_type": "stream",
          "text": [
            "[nltk_data] Downloading package wordnet to /root/nltk_data...\n",
            "[nltk_data]   Unzipping corpora/wordnet.zip.\n",
            "[nltk_data] Downloading package punkt to /root/nltk_data...\n",
            "[nltk_data]   Unzipping tokenizers/punkt.zip.\n"
          ],
          "name": "stdout"
        }
      ]
    },
    {
      "cell_type": "code",
      "metadata": {
        "id": "wEjUcBYgiXK-",
        "colab_type": "code",
        "colab": {}
      },
      "source": [
        "# cleaning text functions same as basline model\n",
        "import os\n",
        "import re\n",
        "import nltk\n",
        "import numpy as np\n",
        "from sklearn import feature_extraction\n",
        "from tqdm import tqdm\n",
        "\n",
        "\n",
        "_wnl = nltk.WordNetLemmatizer()\n",
        "\n",
        "\n",
        "def normalize_word(w):\n",
        "    return _wnl.lemmatize(w).lower()\n",
        "\n",
        "\n",
        "def get_tokenized_lemmas(s):\n",
        "    return [normalize_word(t) for t in nltk.word_tokenize(s)]\n",
        "\n",
        "\n",
        "def clean(s):\n",
        "    # Cleans a string: Lowercasing, trimming, removing non-alphanumeric\n",
        "\n",
        "    return \" \".join(re.findall(r'\\w+', s, flags=re.UNICODE)).lower()\n",
        "\n",
        "\n",
        "def remove_stopwords(l):\n",
        "    # Removes stopwords from a list of tokens\n",
        "    return [w for w in l if w not in feature_extraction.text.ENGLISH_STOP_WORDS]\n",
        "\n",
        "\n",
        "# generating features \n",
        "def gen_or_load_feats(feat_fn, headlines, bodies, feature_file):\n",
        "    if not os.path.isfile(feature_file):\n",
        "        feats = feat_fn(headlines, bodies)\n",
        "        np.save(feature_file, feats)\n",
        "\n",
        "    return np.load(feature_file)\n",
        "\n",
        "\n",
        "\n",
        "\n",
        "def word_overlap_features(headlines, bodies):\n",
        "    X = []\n",
        "    for i, (headline, body) in tqdm(enumerate(zip(headlines, bodies))):\n",
        "        clean_headline = clean(headline)\n",
        "        clean_body = clean(body)\n",
        "        clean_headline = get_tokenized_lemmas(clean_headline)\n",
        "        clean_body = get_tokenized_lemmas(clean_body)\n",
        "        features = [\n",
        "            len(set(clean_headline).intersection(clean_body)) / float(len(set(clean_headline).union(clean_body)))]\n",
        "        X.append(features)\n",
        "    return X\n",
        "\n",
        "\n",
        "def refuting_features(headlines, bodies):\n",
        "    _refuting_words = [\n",
        "        'fake',\n",
        "        'fraud',\n",
        "        'hoax',\n",
        "        'false',\n",
        "        'deny', 'denies',\n",
        "        # 'refute',\n",
        "        'not',\n",
        "        'despite',\n",
        "        'nope',\n",
        "        'doubt', 'doubts',\n",
        "        'bogus',\n",
        "        'debunk',\n",
        "        'pranks',\n",
        "        'retract'\n",
        "    ]\n",
        "    X = []\n",
        "    for i, (headline, body) in tqdm(enumerate(zip(headlines, bodies))):\n",
        "        clean_headline = clean(headline)\n",
        "        clean_headline = get_tokenized_lemmas(clean_headline)\n",
        "        features = [1 if word in clean_headline else 0 for word in _refuting_words]\n",
        "        X.append(features)\n",
        "    return X\n",
        "\n",
        "\n",
        "def polarity_features(headlines, bodies):\n",
        "    _refuting_words = [\n",
        "        'fake',\n",
        "        'fraud',\n",
        "        'hoax',\n",
        "        'false',\n",
        "        'deny', 'denies',\n",
        "        'not',\n",
        "        'despite',\n",
        "        'nope',\n",
        "        'doubt', 'doubts',\n",
        "        'bogus',\n",
        "        'debunk',\n",
        "        'pranks',\n",
        "        'retract'\n",
        "    ]\n",
        "\n",
        "    def calculate_polarity(text):\n",
        "        tokens = get_tokenized_lemmas(text)\n",
        "        return sum([t in _refuting_words for t in tokens]) % 2\n",
        "    X = []\n",
        "    for i, (headline, body) in tqdm(enumerate(zip(headlines, bodies))):\n",
        "        clean_headline = clean(headline)\n",
        "        clean_body = clean(body)\n",
        "        features = []\n",
        "        features.append(calculate_polarity(clean_headline))\n",
        "        features.append(calculate_polarity(clean_body))\n",
        "        X.append(features)\n",
        "    return np.array(X)\n",
        "\n",
        "\n",
        "def ngrams(input, n):\n",
        "    input = input.split(' ')\n",
        "    output = []\n",
        "    for i in range(len(input) - n + 1):\n",
        "        output.append(input[i:i + n])\n",
        "    return output\n",
        "\n",
        "\n",
        "def chargrams(input, n):\n",
        "    output = []\n",
        "    for i in range(len(input) - n + 1):\n",
        "        output.append(input[i:i + n])\n",
        "    return output\n",
        "\n",
        "\n",
        "def append_chargrams(features, text_headline, text_body, size):\n",
        "    grams = [' '.join(x) for x in chargrams(\" \".join(remove_stopwords(text_headline.split())), size)]\n",
        "    grams_hits = 0\n",
        "    grams_early_hits = 0\n",
        "    grams_first_hits = 0\n",
        "    for gram in grams:\n",
        "        if gram in text_body:\n",
        "            grams_hits += 1\n",
        "        if gram in text_body[:255]:\n",
        "            grams_early_hits += 1\n",
        "        if gram in text_body[:100]:\n",
        "            grams_first_hits += 1\n",
        "    features.append(grams_hits)\n",
        "    features.append(grams_early_hits)\n",
        "    features.append(grams_first_hits)\n",
        "    return features\n",
        "\n",
        "\n",
        "def append_ngrams(features, text_headline, text_body, size):\n",
        "    grams = [' '.join(x) for x in ngrams(text_headline, size)]\n",
        "    grams_hits = 0\n",
        "    grams_early_hits = 0\n",
        "    for gram in grams:\n",
        "        if gram in text_body:\n",
        "            grams_hits += 1\n",
        "        if gram in text_body[:255]:\n",
        "            grams_early_hits += 1\n",
        "    features.append(grams_hits)\n",
        "    features.append(grams_early_hits)\n",
        "    return features\n",
        "\n",
        "\n",
        "def hand_features(headlines, bodies):\n",
        "\n",
        "    def binary_co_occurence(headline, body):\n",
        "        # Count how many times a token in the title\n",
        "        # appears in the body text.\n",
        "        bin_count = 0\n",
        "        bin_count_early = 0\n",
        "        for headline_token in clean(headline).split(\" \"):\n",
        "            if headline_token in clean(body):\n",
        "                bin_count += 1\n",
        "            if headline_token in clean(body)[:255]:\n",
        "                bin_count_early += 1\n",
        "        return [bin_count, bin_count_early]\n",
        "\n",
        "    def binary_co_occurence_stops(headline, body):\n",
        "        # Count how many times a token in the title\n",
        "        # appears in the body text. Stopwords in the title\n",
        "        # are ignored.\n",
        "        bin_count = 0\n",
        "        bin_count_early = 0\n",
        "        for headline_token in remove_stopwords(clean(headline).split(\" \")):\n",
        "            if headline_token in clean(body):\n",
        "                bin_count += 1\n",
        "                bin_count_early += 1\n",
        "        return [bin_count, bin_count_early]\n",
        "\n",
        "    def count_grams(headline, body):\n",
        "        # Count how many times an n-gram of the title\n",
        "        # appears in the entire body, and intro paragraph\n",
        "\n",
        "        clean_body = clean(body)\n",
        "        clean_headline = clean(headline)\n",
        "        features = []\n",
        "        features = append_chargrams(features, clean_headline, clean_body, 2)\n",
        "        features = append_chargrams(features, clean_headline, clean_body, 8)\n",
        "        features = append_chargrams(features, clean_headline, clean_body, 4)\n",
        "        features = append_chargrams(features, clean_headline, clean_body, 16)\n",
        "        features = append_ngrams(features, clean_headline, clean_body, 2)\n",
        "        features = append_ngrams(features, clean_headline, clean_body, 3)\n",
        "        features = append_ngrams(features, clean_headline, clean_body, 4)\n",
        "        features = append_ngrams(features, clean_headline, clean_body, 5)\n",
        "        features = append_ngrams(features, clean_headline, clean_body, 6)\n",
        "        return features\n",
        "\n",
        "    X = []\n",
        "    for i, (headline, body) in tqdm(enumerate(zip(headlines, bodies))):\n",
        "        X.append(binary_co_occurence(headline, body)\n",
        "                 + binary_co_occurence_stops(headline, body)\n",
        "                 + count_grams(headline, body))\n",
        "\n",
        "\n",
        "    return X\n"
      ],
      "execution_count": null,
      "outputs": []
    },
    {
      "cell_type": "code",
      "metadata": {
        "id": "KtvCpy5IsK59",
        "colab_type": "code",
        "colab": {}
      },
      "source": [
        "# reading the dataset from the fnc-1 data\n",
        "class DataSet():\n",
        "    def __init__(self, name, path=\"FakeNewsChallenge/fnc-1\"):\n",
        "        self.path = path\n",
        "\n",
        "        print(\"Reading train dataset\")\n",
        "        bodies = name+\"_bodies.csv\"\n",
        "        stances = name+\"_stances.csv\"\n",
        "        print(stances)\n",
        "\n",
        "        self.stances = self.read(stances)\n",
        "        articles = self.read(bodies)\n",
        "        self.articles = dict()\n",
        "\n",
        "        #make the body ID an integer value\n",
        "        for s in self.stances:\n",
        "            s['Body ID'] = int(s['Body ID'])\n",
        "\n",
        "        #copy all bodies into a dictionary\n",
        "        for article in articles:\n",
        "            self.articles[int(article['Body ID'])] = article['articleBody']\n",
        "\n",
        "        print(\"Total stances: \" + str(len(self.stances)))\n",
        "        print(\"Total bodies: \" + str(len(self.articles)))\n",
        "    \n",
        "    def read(self,filename):\n",
        "        rows = []\n",
        "        with open(self.path + \"/\" + filename, \"r\", encoding='utf-8') as table:\n",
        "            r = DictReader(table)\n",
        "\n",
        "            for line in r:\n",
        "                rows.append(line)\n",
        "        return rows"
      ],
      "execution_count": null,
      "outputs": []
    },
    {
      "cell_type": "code",
      "metadata": {
        "id": "XLKIacdysQRG",
        "colab_type": "code",
        "colab": {}
      },
      "source": [
        "'''GENERATING TRAIN VALIDATION SETS SPLIT SO THAT THE ARTICLE BODIES DON'T OVERLAP'''\n",
        "# same as fnc-1 baseline\n",
        "import random\n",
        "import os\n",
        "from collections import defaultdict\n",
        "\n",
        "\n",
        "def generate_hold_out_split (dataset, training = 0.8, base_dir=\"splits\"):\n",
        "    r = random.Random()\n",
        "    r.seed(1489215)\n",
        "\n",
        "    article_ids = list(dataset.articles.keys())  # get a list of article ids\n",
        "    r.shuffle(article_ids)  # and shuffle that list\n",
        "\n",
        "\n",
        "    training_ids = article_ids[:int(training * len(article_ids))]\n",
        "    hold_out_ids = article_ids[int(training * len(article_ids)):]\n",
        "\n",
        "    # write the split body ids out to files for future use\n",
        "    with open(base_dir+ \"/\"+ \"training_ids.txt\", \"w+\") as f:\n",
        "        f.write(\"\\n\".join([str(id) for id in training_ids]))\n",
        "\n",
        "    with open(base_dir+ \"/\"+ \"hold_out_ids.txt\", \"w+\") as f:\n",
        "        f.write(\"\\n\".join([str(id) for id in hold_out_ids]))\n",
        "\n",
        "\n",
        "\n",
        "def read_ids(file,base):\n",
        "    ids = []\n",
        "    with open(base+\"/\"+file,\"r\") as f:\n",
        "        for line in f:\n",
        "           ids.append(int(line))\n",
        "        return ids\n",
        "\n",
        "\n",
        "def kfold_split(dataset, training = 0.8, n_folds = 10, base_dir=\"./\"):\n",
        "    if not (os.path.exists(base_dir+ \"/\"+ \"training_ids.txt\")\n",
        "            and os.path.exists(base_dir+ \"/\"+ \"hold_out_ids.txt\")):\n",
        "        generate_hold_out_split(dataset,training,base_dir)\n",
        "\n",
        "    training_ids = read_ids(\"training_ids.txt\", base_dir)\n",
        "    hold_out_ids = read_ids(\"hold_out_ids.txt\", base_dir)\n",
        "\n",
        "    folds = []\n",
        "    for k in range(n_folds):\n",
        "        folds.append(training_ids[int(k*len(training_ids)/n_folds):int((k+1)*len(training_ids)/n_folds)])\n",
        "\n",
        "    return folds,hold_out_ids\n",
        "\n",
        "\n",
        "def get_stances_for_folds(dataset,folds,hold_out):\n",
        "    stances_folds = defaultdict(list)\n",
        "    stances_hold_out = []\n",
        "    for stance in dataset.stances:\n",
        "        if stance['Body ID'] in hold_out:\n",
        "            stances_hold_out.append(stance)\n",
        "        else:\n",
        "            fold_id = 0\n",
        "            for fold in folds:\n",
        "                if stance['Body ID'] in fold:\n",
        "                    stances_folds[fold_id].append(stance)\n",
        "                fold_id += 1\n",
        "\n",
        "    return stances_folds,stances_hold_out\n"
      ],
      "execution_count": null,
      "outputs": []
    },
    {
      "cell_type": "code",
      "metadata": {
        "id": "bvvgrHQFiap0",
        "colab_type": "code",
        "colab": {}
      },
      "source": [
        "import sys\n",
        "import numpy as np\n",
        "import pickle\n",
        "\n",
        "#from utils.score import report_score, LABELS, score_submission\n",
        "#from utils.system import parse_params, check_version\n",
        "\n",
        "\n",
        "def generate_features(stances,dataset,name):\n",
        "    h, b, y = [],[],[]\n",
        "\n",
        "    for stance in stances:\n",
        "        y.append(LABELS.index(stance['Stance']))\n",
        "        h.append(stance['Headline'])\n",
        "        b.append(dataset.articles[stance['Body ID']])\n",
        "\n",
        "    X_overlap = gen_or_load_feats(word_overlap_features, h, b, \"overlap.\"+name+\".npy\")\n",
        "    X_refuting = gen_or_load_feats(refuting_features, h, b, \"refuting.\"+name+\".npy\")\n",
        "    X_polarity = gen_or_load_feats(polarity_features, h, b, \"polarity.\"+name+\".npy\")\n",
        "    X_hand = gen_or_load_feats(hand_features, h, b, \"hand.\"+name+\".npy\")\n",
        "\n",
        "    X = np.c_[X_hand, X_polarity, X_refuting, X_overlap]\n",
        "    return X,y\n",
        "\n"
      ],
      "execution_count": null,
      "outputs": []
    },
    {
      "cell_type": "code",
      "metadata": {
        "id": "nR-RI0O9uq0m",
        "colab_type": "code",
        "colab": {}
      },
      "source": [
        "# labels list\n",
        "LABELS = ['agree', 'disagree', 'discuss', 'unrelated']\n",
        "# labels - Related/Unrelated\n",
        "LABELS_RELATED = ['unrelated','related']\n",
        "# Getting the labels belonging to related category\n",
        "RELATED = LABELS[0:3]"
      ],
      "execution_count": null,
      "outputs": []
    },
    {
      "cell_type": "code",
      "metadata": {
        "id": "V-brxUuEr8rY",
        "colab_type": "code",
        "colab": {
          "base_uri": "https://localhost:8080/",
          "height": 217
        },
        "outputId": "4dac0041-b6a2-4996-c906-e68532002b8a"
      },
      "source": [
        "# loading train stances and bodies\n",
        "d= DataSet(\"train\")\n",
        "folds,hold_out = kfold_split(d,n_folds=1)\n",
        "# train & validation stances\n",
        "train_stances, val_stances = get_stances_for_folds(d,folds,hold_out)\n",
        "\n",
        "# Load the competition dataset\n",
        "competition_dataset = DataSet(\"competition_test\")\n",
        "X_competition, y_competition = generate_features(competition_dataset.stances, competition_dataset, \"competition\")"
      ],
      "execution_count": null,
      "outputs": [
        {
          "output_type": "stream",
          "text": [
            "Reading train dataset\n",
            "train_stances.csv\n",
            "Total stances: 49972\n",
            "Total bodies: 1683\n"
          ],
          "name": "stdout"
        },
        {
          "output_type": "stream",
          "text": [
            "\r0it [00:00, ?it/s]"
          ],
          "name": "stderr"
        },
        {
          "output_type": "stream",
          "text": [
            "Reading train dataset\n",
            "competition_test_stances.csv\n",
            "Total stances: 25413\n",
            "Total bodies: 904\n"
          ],
          "name": "stdout"
        },
        {
          "output_type": "stream",
          "text": [
            "25413it [01:20, 317.50it/s]\n",
            "25413it [00:04, 5508.15it/s]\n",
            "25413it [01:19, 320.01it/s]\n",
            "25413it [01:25, 295.69it/s]\n"
          ],
          "name": "stderr"
        }
      ]
    },
    {
      "cell_type": "code",
      "metadata": {
        "id": "DIkqPdPew79w",
        "colab_type": "code",
        "colab": {
          "base_uri": "https://localhost:8080/",
          "height": 150
        },
        "outputId": "434dff43-613e-42a1-82ec-ebe33424b8a0"
      },
      "source": [
        "# getting training & testing set\n",
        "X_train, y_train = generate_features(train_stances[0], d, \"train\")\n",
        "X_val, y_val = generate_features(val_stances, d, \"validation\")"
      ],
      "execution_count": null,
      "outputs": [
        {
          "output_type": "stream",
          "text": [
            "40350it [02:12, 305.40it/s]\n",
            "40350it [00:07, 5425.74it/s]\n",
            "40350it [02:14, 300.84it/s]\n",
            "40350it [02:25, 277.53it/s]\n",
            "9622it [00:31, 300.84it/s]\n",
            "9622it [00:01, 5352.55it/s]\n",
            "9622it [00:32, 298.95it/s]\n",
            "9622it [00:34, 280.22it/s]\n"
          ],
          "name": "stderr"
        }
      ]
    },
    {
      "cell_type": "code",
      "metadata": {
        "id": "POYpDcizxXbD",
        "colab_type": "code",
        "colab": {}
      },
      "source": [
        "# importing required packages\n",
        "import tensorflow as tf\n",
        "from tensorflow import keras\n",
        "from tensorflow.keras.layers import Dense, Dropout\n",
        "from tensorflow.keras.models import Sequential\n",
        "from tensorflow.keras.regularizers import l2"
      ],
      "execution_count": null,
      "outputs": []
    },
    {
      "cell_type": "code",
      "metadata": {
        "id": "kQ52mMIft4iO",
        "colab_type": "code",
        "colab": {}
      },
      "source": [
        "## Multi-layer feed-forward network\n",
        "model = Sequential()\n",
        "model.add(Dense(128, activation= 'relu',input_dim=44, kernel_regularizer= l2(0.01)))\n",
        "model.add(Dropout(0.15))\n",
        "model.add(Dense(64, activation='relu', kernel_regularizer= l2(0.01)))\n",
        "model.add(Dense(4, activation='softmax', kernel_regularizer=l2(0.01)))\n",
        "model.compile(loss='sparse_categorical_crossentropy', optimizer='adam', metrics=['accuracy'])\n"
      ],
      "execution_count": null,
      "outputs": []
    },
    {
      "cell_type": "code",
      "metadata": {
        "id": "kQ_tHF902AXZ",
        "colab_type": "code",
        "colab": {
          "base_uri": "https://localhost:8080/",
          "height": 284
        },
        "outputId": "afd9b371-f2a4-4cb3-f77b-5e655646d9d5"
      },
      "source": [
        "model.summary()"
      ],
      "execution_count": null,
      "outputs": [
        {
          "output_type": "stream",
          "text": [
            "Model: \"sequential_2\"\n",
            "_________________________________________________________________\n",
            "Layer (type)                 Output Shape              Param #   \n",
            "=================================================================\n",
            "dense_6 (Dense)              (None, 128)               5760      \n",
            "_________________________________________________________________\n",
            "dropout_2 (Dropout)          (None, 128)               0         \n",
            "_________________________________________________________________\n",
            "dense_7 (Dense)              (None, 64)                8256      \n",
            "_________________________________________________________________\n",
            "dense_8 (Dense)              (None, 4)                 260       \n",
            "=================================================================\n",
            "Total params: 14,276\n",
            "Trainable params: 14,276\n",
            "Non-trainable params: 0\n",
            "_________________________________________________________________\n"
          ],
          "name": "stdout"
        }
      ]
    },
    {
      "cell_type": "code",
      "metadata": {
        "id": "aIyZjZl_2gmW",
        "colab_type": "code",
        "colab": {}
      },
      "source": [
        "# converting list to numpy arrays for neural network\n",
        "y_train = np.array(y_train)\n",
        "y_val = np.array(y_val)\n",
        "y_test = np.array(y_competition)"
      ],
      "execution_count": null,
      "outputs": []
    },
    {
      "cell_type": "code",
      "metadata": {
        "id": "UYSurzv40ja2",
        "colab_type": "code",
        "colab": {
          "base_uri": "https://localhost:8080/",
          "height": 1000
        },
        "outputId": "db7adeb4-72de-4637-c4b0-a55c58662e59"
      },
      "source": [
        "# training the model\n",
        "history = model.fit(X_train,y_train, epochs=100, batch_size=64, validation_data=(X_val, y_val))"
      ],
      "execution_count": null,
      "outputs": [
        {
          "output_type": "stream",
          "text": [
            "Epoch 1/100\n",
            "631/631 [==============================] - 1s 2ms/step - loss: 0.8045 - accuracy: 0.8549 - val_loss: 0.5084 - val_accuracy: 0.8577\n",
            "Epoch 2/100\n",
            "631/631 [==============================] - 1s 2ms/step - loss: 0.4611 - accuracy: 0.8677 - val_loss: 0.4279 - val_accuracy: 0.8645\n",
            "Epoch 3/100\n",
            "631/631 [==============================] - 1s 1ms/step - loss: 0.4185 - accuracy: 0.8676 - val_loss: 0.4091 - val_accuracy: 0.8632\n",
            "Epoch 4/100\n",
            "631/631 [==============================] - 1s 2ms/step - loss: 0.4060 - accuracy: 0.8672 - val_loss: 0.4053 - val_accuracy: 0.8636\n",
            "Epoch 5/100\n",
            "631/631 [==============================] - 1s 1ms/step - loss: 0.4018 - accuracy: 0.8682 - val_loss: 0.4111 - val_accuracy: 0.8598\n",
            "Epoch 6/100\n",
            "631/631 [==============================] - 1s 1ms/step - loss: 0.4013 - accuracy: 0.8677 - val_loss: 0.3991 - val_accuracy: 0.8643\n",
            "Epoch 7/100\n",
            "631/631 [==============================] - 1s 1ms/step - loss: 0.3995 - accuracy: 0.8674 - val_loss: 0.3973 - val_accuracy: 0.8642\n",
            "Epoch 8/100\n",
            "631/631 [==============================] - 1s 1ms/step - loss: 0.4003 - accuracy: 0.8679 - val_loss: 0.3975 - val_accuracy: 0.8651\n",
            "Epoch 9/100\n",
            "631/631 [==============================] - 1s 1ms/step - loss: 0.3980 - accuracy: 0.8684 - val_loss: 0.4074 - val_accuracy: 0.8594\n",
            "Epoch 10/100\n",
            "631/631 [==============================] - 1s 2ms/step - loss: 0.3989 - accuracy: 0.8683 - val_loss: 0.4169 - val_accuracy: 0.8607\n",
            "Epoch 11/100\n",
            "631/631 [==============================] - 1s 2ms/step - loss: 0.3978 - accuracy: 0.8683 - val_loss: 0.3976 - val_accuracy: 0.8643\n",
            "Epoch 12/100\n",
            "631/631 [==============================] - 1s 2ms/step - loss: 0.3983 - accuracy: 0.8682 - val_loss: 0.3996 - val_accuracy: 0.8632\n",
            "Epoch 13/100\n",
            "631/631 [==============================] - 1s 2ms/step - loss: 0.3974 - accuracy: 0.8682 - val_loss: 0.3974 - val_accuracy: 0.8651\n",
            "Epoch 14/100\n",
            "631/631 [==============================] - 1s 2ms/step - loss: 0.3969 - accuracy: 0.8679 - val_loss: 0.4240 - val_accuracy: 0.8542\n",
            "Epoch 15/100\n",
            "631/631 [==============================] - 1s 1ms/step - loss: 0.3973 - accuracy: 0.8686 - val_loss: 0.3967 - val_accuracy: 0.8639\n",
            "Epoch 16/100\n",
            "631/631 [==============================] - 1s 1ms/step - loss: 0.3960 - accuracy: 0.8684 - val_loss: 0.3946 - val_accuracy: 0.8636\n",
            "Epoch 17/100\n",
            "631/631 [==============================] - 1s 2ms/step - loss: 0.3971 - accuracy: 0.8679 - val_loss: 0.3955 - val_accuracy: 0.8637\n",
            "Epoch 18/100\n",
            "631/631 [==============================] - 1s 1ms/step - loss: 0.3966 - accuracy: 0.8680 - val_loss: 0.3954 - val_accuracy: 0.8632\n",
            "Epoch 19/100\n",
            "631/631 [==============================] - 1s 1ms/step - loss: 0.3974 - accuracy: 0.8685 - val_loss: 0.3927 - val_accuracy: 0.8650\n",
            "Epoch 20/100\n",
            "631/631 [==============================] - 1s 1ms/step - loss: 0.3976 - accuracy: 0.8677 - val_loss: 0.3947 - val_accuracy: 0.8643\n",
            "Epoch 21/100\n",
            "631/631 [==============================] - 1s 1ms/step - loss: 0.3964 - accuracy: 0.8687 - val_loss: 0.3946 - val_accuracy: 0.8639\n",
            "Epoch 22/100\n",
            "631/631 [==============================] - 1s 1ms/step - loss: 0.3957 - accuracy: 0.8688 - val_loss: 0.3930 - val_accuracy: 0.8653\n",
            "Epoch 23/100\n",
            "631/631 [==============================] - 1s 2ms/step - loss: 0.3960 - accuracy: 0.8688 - val_loss: 0.4008 - val_accuracy: 0.8608\n",
            "Epoch 24/100\n",
            "631/631 [==============================] - 1s 2ms/step - loss: 0.3958 - accuracy: 0.8680 - val_loss: 0.3934 - val_accuracy: 0.8651\n",
            "Epoch 25/100\n",
            "631/631 [==============================] - 1s 1ms/step - loss: 0.3960 - accuracy: 0.8682 - val_loss: 0.3979 - val_accuracy: 0.8629\n",
            "Epoch 26/100\n",
            "631/631 [==============================] - 1s 1ms/step - loss: 0.3956 - accuracy: 0.8680 - val_loss: 0.3984 - val_accuracy: 0.8637\n",
            "Epoch 27/100\n",
            "631/631 [==============================] - 1s 2ms/step - loss: 0.3961 - accuracy: 0.8676 - val_loss: 0.3955 - val_accuracy: 0.8639\n",
            "Epoch 28/100\n",
            "631/631 [==============================] - 1s 1ms/step - loss: 0.3947 - accuracy: 0.8687 - val_loss: 0.3960 - val_accuracy: 0.8630\n",
            "Epoch 29/100\n",
            "631/631 [==============================] - 1s 1ms/step - loss: 0.3959 - accuracy: 0.8681 - val_loss: 0.4091 - val_accuracy: 0.8620\n",
            "Epoch 30/100\n",
            "631/631 [==============================] - 1s 1ms/step - loss: 0.3959 - accuracy: 0.8679 - val_loss: 0.4060 - val_accuracy: 0.8625\n",
            "Epoch 31/100\n",
            "631/631 [==============================] - 1s 1ms/step - loss: 0.3959 - accuracy: 0.8677 - val_loss: 0.3916 - val_accuracy: 0.8651\n",
            "Epoch 32/100\n",
            "631/631 [==============================] - 1s 2ms/step - loss: 0.3955 - accuracy: 0.8690 - val_loss: 0.4177 - val_accuracy: 0.8579\n",
            "Epoch 33/100\n",
            "631/631 [==============================] - 1s 1ms/step - loss: 0.3963 - accuracy: 0.8681 - val_loss: 0.3964 - val_accuracy: 0.8647\n",
            "Epoch 34/100\n",
            "631/631 [==============================] - 1s 1ms/step - loss: 0.3956 - accuracy: 0.8681 - val_loss: 0.3932 - val_accuracy: 0.8658\n",
            "Epoch 35/100\n",
            "631/631 [==============================] - 1s 2ms/step - loss: 0.3954 - accuracy: 0.8683 - val_loss: 0.4039 - val_accuracy: 0.8592\n",
            "Epoch 36/100\n",
            "631/631 [==============================] - 1s 1ms/step - loss: 0.3955 - accuracy: 0.8679 - val_loss: 0.4092 - val_accuracy: 0.8563\n",
            "Epoch 37/100\n",
            "631/631 [==============================] - 1s 1ms/step - loss: 0.3956 - accuracy: 0.8679 - val_loss: 0.3915 - val_accuracy: 0.8657\n",
            "Epoch 38/100\n",
            "631/631 [==============================] - 1s 1ms/step - loss: 0.3945 - accuracy: 0.8685 - val_loss: 0.3923 - val_accuracy: 0.8635\n",
            "Epoch 39/100\n",
            "631/631 [==============================] - 1s 1ms/step - loss: 0.3950 - accuracy: 0.8678 - val_loss: 0.3931 - val_accuracy: 0.8642\n",
            "Epoch 40/100\n",
            "631/631 [==============================] - 1s 1ms/step - loss: 0.3954 - accuracy: 0.8680 - val_loss: 0.3942 - val_accuracy: 0.8649\n",
            "Epoch 41/100\n",
            "631/631 [==============================] - 1s 2ms/step - loss: 0.3944 - accuracy: 0.8689 - val_loss: 0.3922 - val_accuracy: 0.8648\n",
            "Epoch 42/100\n",
            "631/631 [==============================] - 1s 2ms/step - loss: 0.3949 - accuracy: 0.8686 - val_loss: 0.4024 - val_accuracy: 0.8595\n",
            "Epoch 43/100\n",
            "631/631 [==============================] - 1s 2ms/step - loss: 0.3949 - accuracy: 0.8682 - val_loss: 0.4142 - val_accuracy: 0.8543\n",
            "Epoch 44/100\n",
            "631/631 [==============================] - 1s 2ms/step - loss: 0.3943 - accuracy: 0.8677 - val_loss: 0.4001 - val_accuracy: 0.8601\n",
            "Epoch 45/100\n",
            "631/631 [==============================] - 1s 2ms/step - loss: 0.3954 - accuracy: 0.8686 - val_loss: 0.3951 - val_accuracy: 0.8630\n",
            "Epoch 46/100\n",
            "631/631 [==============================] - 1s 1ms/step - loss: 0.3952 - accuracy: 0.8682 - val_loss: 0.3999 - val_accuracy: 0.8642\n",
            "Epoch 47/100\n",
            "631/631 [==============================] - 1s 2ms/step - loss: 0.3948 - accuracy: 0.8686 - val_loss: 0.3932 - val_accuracy: 0.8646\n",
            "Epoch 48/100\n",
            "631/631 [==============================] - 1s 1ms/step - loss: 0.3948 - accuracy: 0.8680 - val_loss: 0.3936 - val_accuracy: 0.8642\n",
            "Epoch 49/100\n",
            "631/631 [==============================] - 1s 1ms/step - loss: 0.3948 - accuracy: 0.8681 - val_loss: 0.4034 - val_accuracy: 0.8603\n",
            "Epoch 50/100\n",
            "631/631 [==============================] - 1s 2ms/step - loss: 0.3954 - accuracy: 0.8679 - val_loss: 0.3933 - val_accuracy: 0.8650\n",
            "Epoch 51/100\n",
            "631/631 [==============================] - 1s 2ms/step - loss: 0.3949 - accuracy: 0.8685 - val_loss: 0.3971 - val_accuracy: 0.8650\n",
            "Epoch 52/100\n",
            "631/631 [==============================] - 1s 1ms/step - loss: 0.3953 - accuracy: 0.8685 - val_loss: 0.3952 - val_accuracy: 0.8653\n",
            "Epoch 53/100\n",
            "631/631 [==============================] - 1s 2ms/step - loss: 0.3946 - accuracy: 0.8685 - val_loss: 0.3933 - val_accuracy: 0.8647\n",
            "Epoch 54/100\n",
            "631/631 [==============================] - 1s 1ms/step - loss: 0.3946 - accuracy: 0.8687 - val_loss: 0.3940 - val_accuracy: 0.8653\n",
            "Epoch 55/100\n",
            "631/631 [==============================] - 1s 2ms/step - loss: 0.3958 - accuracy: 0.8681 - val_loss: 0.3981 - val_accuracy: 0.8646\n",
            "Epoch 56/100\n",
            "631/631 [==============================] - 1s 1ms/step - loss: 0.3936 - accuracy: 0.8683 - val_loss: 0.3971 - val_accuracy: 0.8619\n",
            "Epoch 57/100\n",
            "631/631 [==============================] - 1s 2ms/step - loss: 0.3948 - accuracy: 0.8674 - val_loss: 0.3956 - val_accuracy: 0.8631\n",
            "Epoch 58/100\n",
            "631/631 [==============================] - 1s 2ms/step - loss: 0.3947 - accuracy: 0.8675 - val_loss: 0.3971 - val_accuracy: 0.8640\n",
            "Epoch 59/100\n",
            "631/631 [==============================] - 1s 2ms/step - loss: 0.3957 - accuracy: 0.8684 - val_loss: 0.3909 - val_accuracy: 0.8655\n",
            "Epoch 60/100\n",
            "631/631 [==============================] - 1s 1ms/step - loss: 0.3951 - accuracy: 0.8678 - val_loss: 0.3947 - val_accuracy: 0.8639\n",
            "Epoch 61/100\n",
            "631/631 [==============================] - 1s 1ms/step - loss: 0.3940 - accuracy: 0.8686 - val_loss: 0.4009 - val_accuracy: 0.8601\n",
            "Epoch 62/100\n",
            "631/631 [==============================] - 1s 2ms/step - loss: 0.3949 - accuracy: 0.8681 - val_loss: 0.4038 - val_accuracy: 0.8583\n",
            "Epoch 63/100\n",
            "631/631 [==============================] - 1s 1ms/step - loss: 0.3940 - accuracy: 0.8675 - val_loss: 0.3971 - val_accuracy: 0.8617\n",
            "Epoch 64/100\n",
            "631/631 [==============================] - 1s 2ms/step - loss: 0.3952 - accuracy: 0.8676 - val_loss: 0.3929 - val_accuracy: 0.8639\n",
            "Epoch 65/100\n",
            "631/631 [==============================] - 1s 2ms/step - loss: 0.3952 - accuracy: 0.8680 - val_loss: 0.3967 - val_accuracy: 0.8635\n",
            "Epoch 66/100\n",
            "631/631 [==============================] - 1s 1ms/step - loss: 0.3952 - accuracy: 0.8680 - val_loss: 0.3914 - val_accuracy: 0.8654\n",
            "Epoch 67/100\n",
            "631/631 [==============================] - 1s 1ms/step - loss: 0.3947 - accuracy: 0.8681 - val_loss: 0.3939 - val_accuracy: 0.8652\n",
            "Epoch 68/100\n",
            "631/631 [==============================] - 1s 2ms/step - loss: 0.3952 - accuracy: 0.8676 - val_loss: 0.3978 - val_accuracy: 0.8613\n",
            "Epoch 69/100\n",
            "631/631 [==============================] - 1s 1ms/step - loss: 0.3950 - accuracy: 0.8687 - val_loss: 0.3933 - val_accuracy: 0.8633\n",
            "Epoch 70/100\n",
            "631/631 [==============================] - 1s 2ms/step - loss: 0.3949 - accuracy: 0.8683 - val_loss: 0.3999 - val_accuracy: 0.8606\n",
            "Epoch 71/100\n",
            "631/631 [==============================] - 1s 1ms/step - loss: 0.3954 - accuracy: 0.8679 - val_loss: 0.3946 - val_accuracy: 0.8651\n",
            "Epoch 72/100\n",
            "631/631 [==============================] - 1s 1ms/step - loss: 0.3951 - accuracy: 0.8684 - val_loss: 0.4181 - val_accuracy: 0.8538\n",
            "Epoch 73/100\n",
            "631/631 [==============================] - 1s 1ms/step - loss: 0.3952 - accuracy: 0.8683 - val_loss: 0.3932 - val_accuracy: 0.8642\n",
            "Epoch 74/100\n",
            "631/631 [==============================] - 1s 1ms/step - loss: 0.3952 - accuracy: 0.8683 - val_loss: 0.4062 - val_accuracy: 0.8578\n",
            "Epoch 75/100\n",
            "631/631 [==============================] - 1s 1ms/step - loss: 0.3954 - accuracy: 0.8676 - val_loss: 0.3986 - val_accuracy: 0.8604\n",
            "Epoch 76/100\n",
            "631/631 [==============================] - 1s 1ms/step - loss: 0.3947 - accuracy: 0.8681 - val_loss: 0.3965 - val_accuracy: 0.8631\n",
            "Epoch 77/100\n",
            "631/631 [==============================] - 1s 1ms/step - loss: 0.3951 - accuracy: 0.8679 - val_loss: 0.3942 - val_accuracy: 0.8632\n",
            "Epoch 78/100\n",
            "631/631 [==============================] - 1s 1ms/step - loss: 0.3954 - accuracy: 0.8682 - val_loss: 0.3935 - val_accuracy: 0.8645\n",
            "Epoch 79/100\n",
            "631/631 [==============================] - 1s 1ms/step - loss: 0.3951 - accuracy: 0.8679 - val_loss: 0.3994 - val_accuracy: 0.8646\n",
            "Epoch 80/100\n",
            "631/631 [==============================] - 1s 1ms/step - loss: 0.3946 - accuracy: 0.8683 - val_loss: 0.3955 - val_accuracy: 0.8641\n",
            "Epoch 81/100\n",
            "631/631 [==============================] - 1s 1ms/step - loss: 0.3938 - accuracy: 0.8679 - val_loss: 0.4006 - val_accuracy: 0.8643\n",
            "Epoch 82/100\n",
            "631/631 [==============================] - 1s 1ms/step - loss: 0.3952 - accuracy: 0.8680 - val_loss: 0.3948 - val_accuracy: 0.8634\n",
            "Epoch 83/100\n",
            "631/631 [==============================] - 1s 1ms/step - loss: 0.3945 - accuracy: 0.8684 - val_loss: 0.3930 - val_accuracy: 0.8657\n",
            "Epoch 84/100\n",
            "631/631 [==============================] - 1s 1ms/step - loss: 0.3953 - accuracy: 0.8680 - val_loss: 0.3972 - val_accuracy: 0.8652\n",
            "Epoch 85/100\n",
            "631/631 [==============================] - 1s 1ms/step - loss: 0.3949 - accuracy: 0.8679 - val_loss: 0.3932 - val_accuracy: 0.8635\n",
            "Epoch 86/100\n",
            "631/631 [==============================] - 1s 1ms/step - loss: 0.3955 - accuracy: 0.8683 - val_loss: 0.3941 - val_accuracy: 0.8637\n",
            "Epoch 87/100\n",
            "631/631 [==============================] - 1s 1ms/step - loss: 0.3943 - accuracy: 0.8684 - val_loss: 0.3941 - val_accuracy: 0.8634\n",
            "Epoch 88/100\n",
            "631/631 [==============================] - 1s 1ms/step - loss: 0.3958 - accuracy: 0.8680 - val_loss: 0.3950 - val_accuracy: 0.8635\n",
            "Epoch 89/100\n",
            "631/631 [==============================] - 1s 1ms/step - loss: 0.3948 - accuracy: 0.8675 - val_loss: 0.3924 - val_accuracy: 0.8646\n",
            "Epoch 90/100\n",
            "631/631 [==============================] - 1s 1ms/step - loss: 0.3952 - accuracy: 0.8678 - val_loss: 0.3987 - val_accuracy: 0.8612\n",
            "Epoch 91/100\n",
            "631/631 [==============================] - 1s 1ms/step - loss: 0.3946 - accuracy: 0.8680 - val_loss: 0.3929 - val_accuracy: 0.8641\n",
            "Epoch 92/100\n",
            "631/631 [==============================] - 1s 1ms/step - loss: 0.3956 - accuracy: 0.8678 - val_loss: 0.3910 - val_accuracy: 0.8648\n",
            "Epoch 93/100\n",
            "631/631 [==============================] - 1s 1ms/step - loss: 0.3950 - accuracy: 0.8680 - val_loss: 0.3951 - val_accuracy: 0.8642\n",
            "Epoch 94/100\n",
            "631/631 [==============================] - 1s 1ms/step - loss: 0.3950 - accuracy: 0.8684 - val_loss: 0.3938 - val_accuracy: 0.8636\n",
            "Epoch 95/100\n",
            "631/631 [==============================] - 1s 1ms/step - loss: 0.3956 - accuracy: 0.8676 - val_loss: 0.3926 - val_accuracy: 0.8651\n",
            "Epoch 96/100\n",
            "631/631 [==============================] - 1s 1ms/step - loss: 0.3938 - accuracy: 0.8683 - val_loss: 0.3999 - val_accuracy: 0.8644\n",
            "Epoch 97/100\n",
            "631/631 [==============================] - 1s 1ms/step - loss: 0.3950 - accuracy: 0.8680 - val_loss: 0.3924 - val_accuracy: 0.8642\n",
            "Epoch 98/100\n",
            "631/631 [==============================] - 1s 1ms/step - loss: 0.3948 - accuracy: 0.8677 - val_loss: 0.4011 - val_accuracy: 0.8602\n",
            "Epoch 99/100\n",
            "631/631 [==============================] - 1s 1ms/step - loss: 0.3941 - accuracy: 0.8683 - val_loss: 0.3920 - val_accuracy: 0.8645\n",
            "Epoch 100/100\n",
            "631/631 [==============================] - 1s 2ms/step - loss: 0.3945 - accuracy: 0.8686 - val_loss: 0.3994 - val_accuracy: 0.8624\n"
          ],
          "name": "stdout"
        }
      ]
    },
    {
      "cell_type": "code",
      "metadata": {
        "id": "_PlCr1vNnLoV",
        "colab_type": "code",
        "colab": {
          "base_uri": "https://localhost:8080/",
          "height": 573
        },
        "outputId": "65ef76eb-a877-438d-ae4d-d16505d0eda4"
      },
      "source": [
        "# plotting accuracy and loss plots\n",
        "import matplotlib.pyplot as plt\n",
        "# summarize history for accuracy\n",
        "fig = plt.figure()\n",
        "plt.plot(history.history['accuracy'])\n",
        "plt.plot(history.history['val_accuracy'])\n",
        "plt.title('Multilayer feed forward network Accuracy')\n",
        "plt.ylabel('accuracy')\n",
        "plt.xlabel('epoch')\n",
        "plt.ylim([0.80,0.9])\n",
        "plt.legend(['train', 'val'], loc='upper right')\n",
        "fig.set_facecolor('white')\n",
        "plt.show()\n",
        "# summarize history for loss\n",
        "fig = plt.figure()\n",
        "plt.plot(history.history['loss'])\n",
        "plt.plot(history.history['val_loss'])\n",
        "plt.title('Multilayer feed forward network loss')\n",
        "plt.ylabel('loss')\n",
        "plt.xlabel('epoch')\n",
        "plt.legend(['train', 'val'], loc='upper right')\n",
        "fig.set_facecolor('white')\n",
        "plt.show()\n"
      ],
      "execution_count": null,
      "outputs": [
        {
          "output_type": "display_data",
          "data": {
            "image/png": "[encoded data removed]",
            "text/plain": [
              "<Figure size 432x288 with 1 Axes>"
            ]
          },
          "metadata": {
            "tags": []
          }
        },
        {
          "output_type": "display_data",
          "data": {
            "image/png": "[encoded data removed]",
            "text/plain": [
              "<Figure size 432x288 with 1 Axes>"
            ]
          },
          "metadata": {
            "tags": []
          }
        }
      ]
    },
    {
      "cell_type": "code",
      "metadata": {
        "id": "rHlK5-4H4-ET",
        "colab_type": "code",
        "colab": {
          "base_uri": "https://localhost:8080/",
          "height": 50
        },
        "outputId": "361eec45-56af-463c-dbe1-f2b259d6967c"
      },
      "source": [
        "# evaluating model on test set\n",
        "model.evaluate(X_competition, y_test)"
      ],
      "execution_count": null,
      "outputs": [
        {
          "output_type": "stream",
          "text": [
            "795/795 [==============================] - 1s 788us/step - loss: 0.4670 - accuracy: 0.8491\n"
          ],
          "name": "stdout"
        },
        {
          "output_type": "execute_result",
          "data": {
            "text/plain": [
              "[0.4670167863368988, 0.8490536212921143]"
            ]
          },
          "metadata": {
            "tags": []
          },
          "execution_count": 37
        }
      ]
    },
    {
      "cell_type": "code",
      "metadata": {
        "id": "1FcR70d7qdah",
        "colab_type": "code",
        "colab": {
          "base_uri": "https://localhost:8080/",
          "height": 33
        },
        "outputId": "27117b82-7ebf-4993-9a99-e53cad848592"
      },
      "source": [
        "# predictions on test set\n",
        "y_test_pred = model.predict(X_competition)\n",
        "pred_test = np.argmax(y_test_pred, axis = 1)\n",
        "pred_test"
      ],
      "execution_count": null,
      "outputs": [
        {
          "output_type": "execute_result",
          "data": {
            "text/plain": [
              "array([3, 3, 3, ..., 3, 2, 2])"
            ]
          },
          "metadata": {
            "tags": []
          },
          "execution_count": 39
        }
      ]
    },
    {
      "cell_type": "code",
      "metadata": {
        "id": "h4XCdL3dx_8j",
        "colab_type": "code",
        "colab": {
          "base_uri": "https://localhost:8080/",
          "height": 33
        },
        "outputId": "c96047d1-97a1-4b87-f102-41be4baac9bd"
      },
      "source": [
        "# predictions on train set\n",
        "y_train_pred = model.predict(X_train)\n",
        "pred_train = np.argmax(y_train_pred, axis = 1)\n",
        "pred_train"
      ],
      "execution_count": null,
      "outputs": [
        {
          "output_type": "execute_result",
          "data": {
            "text/plain": [
              "array([2, 3, 3, ..., 3, 2, 3])"
            ]
          },
          "metadata": {
            "tags": []
          },
          "execution_count": 55
        }
      ]
    },
    {
      "cell_type": "code",
      "metadata": {
        "id": "NfbHqHU1yV7t",
        "colab_type": "code",
        "colab": {
          "base_uri": "https://localhost:8080/",
          "height": 33
        },
        "outputId": "c4ba1ff9-7b49-4ce1-f1cc-4afc87d22d94"
      },
      "source": [
        "# predictions on val set\n",
        "y_val_pred = model.predict(X_val)\n",
        "pred_val = np.argmax(y_val_pred, axis = 1)\n",
        "pred_val"
      ],
      "execution_count": null,
      "outputs": [
        {
          "output_type": "execute_result",
          "data": {
            "text/plain": [
              "array([3, 2, 3, ..., 3, 3, 2])"
            ]
          },
          "metadata": {
            "tags": []
          },
          "execution_count": 57
        }
      ]
    },
    {
      "cell_type": "code",
      "metadata": {
        "id": "IQ25BPg6p3cq",
        "colab_type": "code",
        "colab": {
          "base_uri": "https://localhost:8080/",
          "height": 117
        },
        "outputId": "b14d2b10-7b3a-4b56-deaf-2ac6088317fd"
      },
      "source": [
        "# accuracy & f1 scores for test set\n",
        "from sklearn.metrics import accuracy_score, recall_score, precision_score, f1_score, confusion_matrix\n",
        "print(\"accuracy {}\".format(accuracy_score(y_true = y_test, y_pred = pred_test)))\n",
        "print(\"F1 score {}\".format(f1_score(y_true = y_test, y_pred = pred_test, average='weighted')))\n",
        "print(confusion_matrix(y_true =y_test, y_pred = pred_test))\n"
      ],
      "execution_count": null,
      "outputs": [
        {
          "output_type": "stream",
          "text": [
            "accuracy 0.8490536339668674\n",
            "F1 score 0.8062152835075163\n",
            "[[    0     0  1499   404]\n",
            " [    0     0   381   316]\n",
            " [    0     0  3465   999]\n",
            " [    0     0   237 18112]]\n"
          ],
          "name": "stdout"
        }
      ]
    },
    {
      "cell_type": "code",
      "metadata": {
        "id": "F1fSFnlEyIXd",
        "colab_type": "code",
        "colab": {
          "base_uri": "https://localhost:8080/",
          "height": 50
        },
        "outputId": "252fcbca-a479-4582-d138-52c865064f1c"
      },
      "source": [
        "# accuracy & f1 scores for train set\n",
        "print(\"accuracy {}\".format(accuracy_score(y_true = y_train, y_pred = pred_train)))\n",
        "print(\"F1 score {}\".format(f1_score(y_true = y_train, y_pred = pred_train, average='weighted')))"
      ],
      "execution_count": null,
      "outputs": [
        {
          "output_type": "stream",
          "text": [
            "accuracy 0.8674845105328377\n",
            "F1 score 0.8307473843893589\n"
          ],
          "name": "stdout"
        }
      ]
    },
    {
      "cell_type": "code",
      "metadata": {
        "id": "dsBvuBb9x2O6",
        "colab_type": "code",
        "colab": {
          "base_uri": "https://localhost:8080/",
          "height": 50
        },
        "outputId": "9f92a0f0-3cac-4447-c23a-fee3d769cb6b"
      },
      "source": [
        "# accuracy & f1 scores for val set\n",
        "print(\"accuracy {}\".format(accuracy_score(y_true = y_val, y_pred = pred_val)))\n",
        "print(\"F1 score {}\".format(f1_score(y_true = y_val, y_pred = pred_val, average='weighted')))"
      ],
      "execution_count": null,
      "outputs": [
        {
          "output_type": "stream",
          "text": [
            "accuracy 0.8623986697152359\n",
            "F1 score 0.8226971130704173\n"
          ],
          "name": "stdout"
        }
      ]
    },
    {
      "cell_type": "code",
      "metadata": {
        "id": "RnFYmTPF0lRq",
        "colab_type": "code",
        "colab": {}
      },
      "source": [
        "# function to get features of the unlabelled dataset\n",
        "def features_competition(stances,dataset,name):\n",
        "    h, b, body_id = [],[], []\n",
        "\n",
        "    for stance in stances:\n",
        "        h.append(stance['Headline'])\n",
        "        b.append(dataset.articles[stance['Body ID']])\n",
        "        body_id.append(stance['Body ID'])\n",
        "\n",
        "    X_overlap = gen_or_load_feats(word_overlap_features, h, b, \"overlap.\"+name+\".npy\")\n",
        "    X_refuting = gen_or_load_feats(refuting_features, h, b, \"refuting.\"+name+\".npy\")\n",
        "    X_polarity = gen_or_load_feats(polarity_features, h, b, \"polarity.\"+name+\".npy\")\n",
        "    X_hand = gen_or_load_feats(hand_features, h, b, \"hand.\"+name+\".npy\")\n",
        "\n",
        "    X = np.c_[X_hand, X_polarity, X_refuting, X_overlap]\n",
        "    return X, h, body_id\n",
        "\n",
        "class unlab_DataSet():\n",
        "    def __init__(self, name, path=\"fnc-1\"):\n",
        "        self.path = path\n",
        "\n",
        "        print(\"Reading test dataset\")\n",
        "        bodies = name+\"_bodies.csv\"\n",
        "        stances = name+\"_stances_unlabeled.csv\"\n",
        "        print(stances)\n",
        "\n",
        "        self.stances = self.read(stances)\n",
        "        articles = self.read(bodies)\n",
        "        self.articles = dict()\n",
        "\n",
        "        #make the body ID an integer value\n",
        "        for s in self.stances:\n",
        "            s['Body ID'] = int(s['Body ID'])\n",
        "\n",
        "        #copy all bodies into a dictionary\n",
        "        for article in articles:\n",
        "            self.articles[int(article['Body ID'])] = article['articleBody']\n",
        "\n",
        "        print(\"Total stances: \" + str(len(self.stances)))\n",
        "        print(\"Total bodies: \" + str(len(self.articles)))\n",
        "        \n",
        "    def read(self,filename):\n",
        "        rows = []\n",
        "        with open(self.path + \"/\" + filename, \"r\", encoding='utf-8') as table:\n",
        "            r = DictReader(table)\n",
        "\n",
        "            for line in r:\n",
        "                rows.append(line)\n",
        "        return rows"
      ],
      "execution_count": null,
      "outputs": []
    },
    {
      "cell_type": "code",
      "metadata": {
        "id": "-VCiQV0i4lLA",
        "colab_type": "code",
        "colab": {
          "base_uri": "https://localhost:8080/",
          "height": 84
        },
        "outputId": "15d4d306-a753-4727-8660-39cf013856bf"
      },
      "source": [
        "# load file \n",
        "competition_test = DataSet(\"competition_test\")"
      ],
      "execution_count": null,
      "outputs": [
        {
          "output_type": "stream",
          "text": [
            "Reading train dataset\n",
            "competition_test_stances.csv\n",
            "Total stances: 25413\n",
            "Total bodies: 904\n"
          ],
          "name": "stdout"
        }
      ]
    },
    {
      "cell_type": "code",
      "metadata": {
        "id": "oXV4v0LG5WMr",
        "colab_type": "code",
        "colab": {
          "base_uri": "https://localhost:8080/",
          "height": 84
        },
        "outputId": "a0b72221-4a29-4da0-a620-dcf836bbefea"
      },
      "source": [
        "# generate features from competition unlabelled dataset\n",
        "X_competition_unlab, headline, body = features_competition(competition_test.stances, competition_test, \"competition_unlabeled\")"
      ],
      "execution_count": null,
      "outputs": [
        {
          "output_type": "stream",
          "text": [
            "25413it [01:23, 305.54it/s]\n",
            "25413it [00:04, 5334.30it/s]\n",
            "25413it [01:23, 303.39it/s]\n",
            "25413it [01:30, 280.26it/s]\n"
          ],
          "name": "stderr"
        }
      ]
    },
    {
      "cell_type": "code",
      "metadata": {
        "id": "RS94nBXr4wwx",
        "colab_type": "code",
        "colab": {}
      },
      "source": [
        "#Run on competition unlabelled dataset\n",
        "predicted =  model.predict(X_competition_unlab)\n",
        "y_pred = np.argmax(predicted, axis = 1)\n",
        "pred_label = [LABELS[i] for i in y_pred]\n"
      ],
      "execution_count": null,
      "outputs": []
    },
    {
      "cell_type": "code",
      "metadata": {
        "id": "ytUa_AV46eN1",
        "colab_type": "code",
        "colab": {
          "base_uri": "https://localhost:8080/",
          "height": 134
        },
        "outputId": "ff7d8eb0-95f6-48ca-be54-b5dd0077fb2b"
      },
      "source": [
        "# dataframe for answer.csv\n",
        "df = pd.DataFrame()\n",
        "df['Headline'] = headline\n",
        "df['Body ID'] = body\n",
        "df['Stance'] = pred_label\n",
        "print(df.head())\n",
        "print(df.shape)\n",
        "df.to_csv('answer.csv', index=False, encoding='utf-8') # From pandas library"
      ],
      "execution_count": null,
      "outputs": [
        {
          "output_type": "stream",
          "text": [
            "                                            Headline  Body ID     Stance\n",
            "0  Ferguson riots: Pregnant woman loses eye after...     2008  unrelated\n",
            "1  Crazy Conservatives Are Sure a Gitmo Detainee ...     1550  unrelated\n",
            "2  A Russian Guy Says His Justin Bieber Ringtone ...        2  unrelated\n",
            "3  Zombie Cat: Buried Kitty Believed Dead, Meows ...     1793  unrelated\n",
            "4  Argentina's President Adopts Boy to End Werewo...       37  unrelated\n",
            "(25413, 3)\n"
          ],
          "name": "stdout"
        }
      ]
    }
  ]
}